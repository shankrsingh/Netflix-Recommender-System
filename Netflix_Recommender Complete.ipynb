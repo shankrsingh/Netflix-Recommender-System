{
 "cells": [
  {
   "cell_type": "markdown",
   "metadata": {
    "colab_type": "text",
    "id": "hE5RRtXld7YH"
   },
   "source": [
    "# Netflix Recommender System"
   ]
  },
  {
   "cell_type": "markdown",
   "metadata": {
    "colab_type": "text",
    "id": "LzMkz3S3d7YJ"
   },
   "source": [
    "**Problem Statement**\n",
    "\n",
    "Netflix provided a lot of anonymous rating data, and a prediction accuracy bar that is 10% better than what Cinematch can do on the same training data set. (Accuracy is a measurement of how closely predicted ratings of movies match subsequent actual ratings.)"
   ]
  },
  {
   "cell_type": "markdown",
   "metadata": {
    "colab_type": "text",
    "id": "AL8tOnHbd7YJ"
   },
   "source": [
    "**Objectives**\n",
    "\n",
    "-  Predict Rating of a item that the user havent seen yet\n",
    "-  Minimise Difference between Predicted and Actual Rating"
   ]
  },
  {
   "cell_type": "markdown",
   "metadata": {
    "colab_type": "text",
    "id": "tR-vWurqd7YK"
   },
   "source": [
    "**Data Overview**"
   ]
  },
  {
   "cell_type": "code",
   "execution_count": null,
   "metadata": {
    "colab": {},
    "colab_type": "code",
    "id": "15cK7N6cd7YL",
    "outputId": "4b7eaf53-2c78-4127-f61a-748d97865841"
   },
   "outputs": [
    {
     "name": "stdout",
     "output_type": "stream",
     "text": [
      "combined_data_1.txt\n",
      "combined_data_2.txt\n",
      "combined_data_3.txt\n",
      "combined_data_4.txt\n",
      "movie_titles.csv\n"
     ]
    }
   ],
   "source": [
    "import os\n",
    "\n",
    "for f in os.listdir('train/'):\n",
    "    print(f)"
   ]
  },
  {
   "cell_type": "markdown",
   "metadata": {
    "colab_type": "text",
    "id": "ZR1yK5e8d7YP"
   },
   "source": [
    "The first line of each file [combined_data_1.txt, combined_data_2.txt, combined_data_3.txt, combined_data_4.txt] contains the movie id followed by a colon. Each subsequent line in the file corresponds to a rating from a customer and its date in the following format:\n",
    "CustomerID,Rating,Date\n",
    "\n",
    "\n",
    "MovieIDs range from 1 to 17770 sequentially.\n",
    "CustomerIDs range from 1 to 2649429, with gaps. There are 480189 users.\n",
    "Ratings are on a five star (integral) scale from 1 to 5.\n",
    "Dates have the format YYYY-MM-DD"
   ]
  },
  {
   "cell_type": "markdown",
   "metadata": {
    "colab_type": "text",
    "id": "oBOmnXoWd7YQ"
   },
   "source": [
    "**Type of ML Problem**"
   ]
  },
  {
   "cell_type": "markdown",
   "metadata": {
    "colab_type": "text",
    "id": "0lH55Pnod7YR"
   },
   "source": [
    "-  For a given movie and user we need to predict the rating would be given by him/her to the movie.The given problem is a Recommendation problem \n",
    "-  It can also seen as a Regression problem"
   ]
  },
  {
   "cell_type": "markdown",
   "metadata": {
    "colab_type": "text",
    "id": "XbShXuPKd7YS"
   },
   "source": [
    "**Perfomance Metrics**\n",
    "\n",
    "-  Mean Absolute Percentage\n",
    "-  Root Mean Square Error\n",
    "\n",
    "\n",
    "***"
   ]
  },
  {
   "cell_type": "code",
   "execution_count": null,
   "metadata": {
    "colab": {},
    "colab_type": "code",
    "id": "Ta1pP5-5d7YT"
   },
   "outputs": [],
   "source": [
    "import numpy as np\n",
    "import pandas as pd\n",
    "import matplotlib.pyplot as plt\n",
    "import seaborn as sns\n",
    "sns.set_style('whitegrid')\n",
    "import os\n",
    "from scipy import sparse\n",
    "from scipy.sparse import csr_matrix\n",
    "from sklearn.metrics.pairwise import cosine_similarity\n",
    "from sklearn.decomposition import TruncatedSVD\n",
    "from sklearn.metrics.pairwise import cosine_similarity\n",
    "import random\n",
    "from datetime import datetime"
   ]
  },
  {
   "cell_type": "markdown",
   "metadata": {
    "colab_type": "text",
    "id": "phimh03nd7YV"
   },
   "source": [
    "## Exploratory Data Analysis\n",
    "### Preprocessing\n",
    "**Merging files**"
   ]
  },
  {
   "cell_type": "code",
   "execution_count": null,
   "metadata": {
    "colab": {},
    "colab_type": "code",
    "id": "iTMt9X8ad7YW"
   },
   "outputs": [],
   "source": [
    "files=os.listdir('data/')\n",
    "\n",
    "if not os.path.isfile('data.csv'):\n",
    "    data = open('data.csv', mode='w')\n",
    "    \n",
    "    row =[]\n",
    "\n",
    "    for file in files:\n",
    "        with open('data/'+file) as f:\n",
    "            for line in f: \n",
    "                del row[:]\n",
    "                line = line.strip()\n",
    "                if line.endswith(':'):\n",
    "                    # All below are ratings for this movie, until another movie appears.\n",
    "                    movie_id = line.replace(':', '')\n",
    "                else:\n",
    "                    row = [x for x in line.split(',')]\n",
    "                    row.insert(0, movie_id)\n",
    "                    data.write(','.join(row))\n",
    "                    data.write('\\n')\n",
    "        \n",
    "    data.close()"
   ]
  },
  {
   "cell_type": "code",
   "execution_count": null,
   "metadata": {
    "colab": {},
    "colab_type": "code",
    "id": "FnFuagn6d7YY"
   },
   "outputs": [],
   "source": [
    "df = pd.read_csv('data.csv', sep=',',names=['movie', 'user','rating','date'])\n",
    "df.date = pd.to_datetime(df.date)\n",
    "# we are arranging the ratings according to time as this is temporal data\n",
    "df.sort_values(by='date', inplace=True)"
   ]
  },
  {
   "cell_type": "code",
   "execution_count": null,
   "metadata": {
    "colab": {},
    "colab_type": "code",
    "id": "u4rvBC44d7Ya",
    "outputId": "0f62ba33-a620-4e3d-a008-ab570eaf4e46"
   },
   "outputs": [
    {
     "data": {
      "text/html": [
       "<div>\n",
       "<style scoped>\n",
       "    .dataframe tbody tr th:only-of-type {\n",
       "        vertical-align: middle;\n",
       "    }\n",
       "\n",
       "    .dataframe tbody tr th {\n",
       "        vertical-align: top;\n",
       "    }\n",
       "\n",
       "    .dataframe thead th {\n",
       "        text-align: right;\n",
       "    }\n",
       "</style>\n",
       "<table border=\"1\" class=\"dataframe\">\n",
       "  <thead>\n",
       "    <tr style=\"text-align: right;\">\n",
       "      <th></th>\n",
       "      <th>movie</th>\n",
       "      <th>user</th>\n",
       "      <th>rating</th>\n",
       "      <th>date</th>\n",
       "    </tr>\n",
       "  </thead>\n",
       "  <tbody>\n",
       "    <tr>\n",
       "      <th>56431994</th>\n",
       "      <td>10341</td>\n",
       "      <td>510180</td>\n",
       "      <td>4</td>\n",
       "      <td>1999-11-11</td>\n",
       "    </tr>\n",
       "    <tr>\n",
       "      <th>9056171</th>\n",
       "      <td>1798</td>\n",
       "      <td>510180</td>\n",
       "      <td>5</td>\n",
       "      <td>1999-11-11</td>\n",
       "    </tr>\n",
       "    <tr>\n",
       "      <th>58698779</th>\n",
       "      <td>10774</td>\n",
       "      <td>510180</td>\n",
       "      <td>3</td>\n",
       "      <td>1999-11-11</td>\n",
       "    </tr>\n",
       "    <tr>\n",
       "      <th>48101611</th>\n",
       "      <td>8651</td>\n",
       "      <td>510180</td>\n",
       "      <td>2</td>\n",
       "      <td>1999-11-11</td>\n",
       "    </tr>\n",
       "    <tr>\n",
       "      <th>81893208</th>\n",
       "      <td>14660</td>\n",
       "      <td>510180</td>\n",
       "      <td>2</td>\n",
       "      <td>1999-11-11</td>\n",
       "    </tr>\n",
       "  </tbody>\n",
       "</table>\n",
       "</div>"
      ],
      "text/plain": [
       "          movie    user  rating       date\n",
       "56431994  10341  510180       4 1999-11-11\n",
       "9056171    1798  510180       5 1999-11-11\n",
       "58698779  10774  510180       3 1999-11-11\n",
       "48101611   8651  510180       2 1999-11-11\n",
       "81893208  14660  510180       2 1999-11-11"
      ]
     },
     "execution_count": 27,
     "metadata": {
      "tags": []
     },
     "output_type": "execute_result"
    }
   ],
   "source": [
    "df.head()"
   ]
  },
  {
   "cell_type": "code",
   "execution_count": null,
   "metadata": {
    "colab": {},
    "colab_type": "code",
    "id": "1kSYpQjpd7Ye",
    "outputId": "94dd9f79-c3d9-49c6-a36a-e1496704607c"
   },
   "outputs": [
    {
     "data": {
      "text/html": [
       "<div>\n",
       "<style scoped>\n",
       "    .dataframe tbody tr th:only-of-type {\n",
       "        vertical-align: middle;\n",
       "    }\n",
       "\n",
       "    .dataframe tbody tr th {\n",
       "        vertical-align: top;\n",
       "    }\n",
       "\n",
       "    .dataframe thead th {\n",
       "        text-align: right;\n",
       "    }\n",
       "</style>\n",
       "<table border=\"1\" class=\"dataframe\">\n",
       "  <thead>\n",
       "    <tr style=\"text-align: right;\">\n",
       "      <th></th>\n",
       "      <th>movie</th>\n",
       "      <th>user</th>\n",
       "      <th>rating</th>\n",
       "    </tr>\n",
       "  </thead>\n",
       "  <tbody>\n",
       "    <tr>\n",
       "      <th>count</th>\n",
       "      <td>1.004805e+08</td>\n",
       "      <td>1.004805e+08</td>\n",
       "      <td>1.004805e+08</td>\n",
       "    </tr>\n",
       "    <tr>\n",
       "      <th>mean</th>\n",
       "      <td>9.070915e+03</td>\n",
       "      <td>1.322489e+06</td>\n",
       "      <td>3.604290e+00</td>\n",
       "    </tr>\n",
       "    <tr>\n",
       "      <th>std</th>\n",
       "      <td>5.131891e+03</td>\n",
       "      <td>7.645368e+05</td>\n",
       "      <td>1.085219e+00</td>\n",
       "    </tr>\n",
       "    <tr>\n",
       "      <th>min</th>\n",
       "      <td>1.000000e+00</td>\n",
       "      <td>6.000000e+00</td>\n",
       "      <td>1.000000e+00</td>\n",
       "    </tr>\n",
       "    <tr>\n",
       "      <th>25%</th>\n",
       "      <td>4.677000e+03</td>\n",
       "      <td>6.611980e+05</td>\n",
       "      <td>3.000000e+00</td>\n",
       "    </tr>\n",
       "    <tr>\n",
       "      <th>50%</th>\n",
       "      <td>9.051000e+03</td>\n",
       "      <td>1.319012e+06</td>\n",
       "      <td>4.000000e+00</td>\n",
       "    </tr>\n",
       "    <tr>\n",
       "      <th>75%</th>\n",
       "      <td>1.363500e+04</td>\n",
       "      <td>1.984455e+06</td>\n",
       "      <td>4.000000e+00</td>\n",
       "    </tr>\n",
       "    <tr>\n",
       "      <th>max</th>\n",
       "      <td>1.777000e+04</td>\n",
       "      <td>2.649429e+06</td>\n",
       "      <td>5.000000e+00</td>\n",
       "    </tr>\n",
       "  </tbody>\n",
       "</table>\n",
       "</div>"
      ],
      "text/plain": [
       "              movie          user        rating\n",
       "count  1.004805e+08  1.004805e+08  1.004805e+08\n",
       "mean   9.070915e+03  1.322489e+06  3.604290e+00\n",
       "std    5.131891e+03  7.645368e+05  1.085219e+00\n",
       "min    1.000000e+00  6.000000e+00  1.000000e+00\n",
       "25%    4.677000e+03  6.611980e+05  3.000000e+00\n",
       "50%    9.051000e+03  1.319012e+06  4.000000e+00\n",
       "75%    1.363500e+04  1.984455e+06  4.000000e+00\n",
       "max    1.777000e+04  2.649429e+06  5.000000e+00"
      ]
     },
     "execution_count": 29,
     "metadata": {
      "tags": []
     },
     "output_type": "execute_result"
    }
   ],
   "source": [
    "df.describe()"
   ]
  },
  {
   "cell_type": "markdown",
   "metadata": {
    "colab_type": "text",
    "id": "k2_q0Heod7Yg"
   },
   "source": [
    "**Checking for Null Values and Duplicates**"
   ]
  },
  {
   "cell_type": "code",
   "execution_count": null,
   "metadata": {
    "colab": {},
    "colab_type": "code",
    "id": "5mLxgyWLd7Yh",
    "outputId": "142b88c3-3cff-4a03-af24-17378458d517"
   },
   "outputs": [
    {
     "name": "stdout",
     "output_type": "stream",
     "text": [
      "No of Nan values in our dataframe :  0\n"
     ]
    }
   ],
   "source": [
    "print(\"No of Nan values in our dataframe : \", sum(df.isnull().any()))"
   ]
  },
  {
   "cell_type": "code",
   "execution_count": null,
   "metadata": {
    "colab": {},
    "colab_type": "code",
    "id": "u8qM4CxGd7Yj"
   },
   "outputs": [],
   "source": [
    "dups = sum(df.duplicated(['movie','user','rating']))\n",
    "print(\"There are {} duplicate rating entries in the data\".format(dups))"
   ]
  },
  {
   "cell_type": "markdown",
   "metadata": {
    "colab_type": "text",
    "id": "M-qQ0GJsd7Ym"
   },
   "source": [
    "**Basic Statistics on Dataset**"
   ]
  },
  {
   "cell_type": "code",
   "execution_count": null,
   "metadata": {
    "colab": {},
    "colab_type": "code",
    "id": "0R8R5-bNd7Ym",
    "outputId": "01bb228e-3a5f-49e8-f2e5-a41740885c26"
   },
   "outputs": [
    {
     "name": "stdout",
     "output_type": "stream",
     "text": [
      "Total data \n",
      "--------------------------------------------------\n",
      "\n",
      "Total no of ratings : 100480507\n",
      "Total No of Users   : 480189\n",
      "Total No of movies  : 17770\n"
     ]
    }
   ],
   "source": [
    "print(\"Total data \")\n",
    "print(\"-\"*50)\n",
    "print(\"\\nTotal no of ratings :\",df.shape[0])\n",
    "print(\"Total No of Users   :\", len(np.unique(df.user)))\n",
    "print(\"Total No of movies  :\", len(np.unique(df.movie)))"
   ]
  },
  {
   "cell_type": "markdown",
   "metadata": {
    "colab_type": "text",
    "id": "qv9V1k-Fd7Yp"
   },
   "source": [
    "## Splitting into Test Train\n",
    "\n",
    "\n",
    "We Split Data Temporally"
   ]
  },
  {
   "cell_type": "code",
   "execution_count": null,
   "metadata": {
    "colab": {},
    "colab_type": "code",
    "id": "iOXDLRcgd7Yp"
   },
   "outputs": [],
   "source": [
    "df.iloc[:int(df.shape[0]*0.80)].to_csv(\"train.csv\", index=False)\n",
    "df.iloc[int(df.shape[0]*0.80):].to_csv(\"test.csv\", index=False)"
   ]
  },
  {
   "cell_type": "code",
   "execution_count": null,
   "metadata": {
    "colab": {},
    "colab_type": "code",
    "id": "9UF1cs5-d7Ys"
   },
   "outputs": [],
   "source": [
    "train_df = pd.read_csv(\"train.csv\", parse_dates=['date'])\n",
    "test_df = pd.read_csv(\"test.csv\")"
   ]
  },
  {
   "cell_type": "markdown",
   "metadata": {
    "colab_type": "text",
    "id": "nDNs9RXxd7Yu"
   },
   "source": [
    "### Basic Statistics\n",
    "\n",
    "**Train Data**"
   ]
  },
  {
   "cell_type": "code",
   "execution_count": null,
   "metadata": {
    "colab": {},
    "colab_type": "code",
    "id": "kelfNiZ5d7Yv",
    "outputId": "46f4e06c-4e9e-4cdd-e8cc-f6bbf93f13ed"
   },
   "outputs": [
    {
     "name": "stdout",
     "output_type": "stream",
     "text": [
      "Train data \n",
      "--------------------------------------------------\n",
      "\n",
      "Total no of ratings : 80384405\n",
      "Total No of Users   : 405041\n",
      "Total No of movies  : 17424\n"
     ]
    }
   ],
   "source": [
    "print(\"Train data \")\n",
    "print(\"-\"*50)\n",
    "print(\"\\nTotal no of ratings :\",train_df.shape[0])\n",
    "print(\"Total No of Users   :\", len(np.unique(train_df.user)))\n",
    "print(\"Total No of movies  :\", len(np.unique(train_df.movie)))"
   ]
  },
  {
   "cell_type": "markdown",
   "metadata": {
    "colab_type": "text",
    "id": "5z8iyCm_d7Yx"
   },
   "source": [
    "**Test Data**"
   ]
  },
  {
   "cell_type": "code",
   "execution_count": null,
   "metadata": {
    "colab": {},
    "colab_type": "code",
    "id": "Jh1bj0NUd7Yy",
    "outputId": "d4b22dbf-c05e-4d9f-a4c5-cd1faf514fe2"
   },
   "outputs": [
    {
     "name": "stdout",
     "output_type": "stream",
     "text": [
      "Test data \n",
      "--------------------------------------------------\n",
      "\n",
      "Total no of ratings : 20096102\n",
      "Total No of Users   : 349312\n",
      "Total No of movies  : 17757\n"
     ]
    }
   ],
   "source": [
    "print(\"Test data \")\n",
    "print(\"-\"*50)\n",
    "print(\"\\nTotal no of ratings :\",test_df.shape[0])\n",
    "print(\"Total No of Users   :\", len(np.unique(test_df.user)))\n",
    "print(\"Total No of movies  :\", len(np.unique(test_df.movie)))"
   ]
  },
  {
   "cell_type": "markdown",
   "metadata": {
    "colab_type": "text",
    "id": "3ii1_l8Id7Y0"
   },
   "source": [
    "## EDA on Train Data"
   ]
  },
  {
   "cell_type": "code",
   "execution_count": null,
   "metadata": {
    "colab": {},
    "colab_type": "code",
    "id": "qWmJiNKOd7Y1"
   },
   "outputs": [],
   "source": [
    "def human(num, units = 'M'):\n",
    "    units = units.lower()\n",
    "    num = float(num)\n",
    "    if units == 'k':\n",
    "        return str(num/10**3) + \" K\"\n",
    "    elif units == 'm':\n",
    "        return str(num/10**6) + \" M\"\n",
    "    elif units == 'b':\n",
    "        return str(num/10**9) +  \" B\""
   ]
  },
  {
   "cell_type": "markdown",
   "metadata": {
    "colab_type": "text",
    "id": "IxpkSBw9d7Y3"
   },
   "source": [
    "**Distribution of Ratings**"
   ]
  },
  {
   "cell_type": "code",
   "execution_count": null,
   "metadata": {
    "colab": {},
    "colab_type": "code",
    "id": "riWVL0Wwd7Y4",
    "outputId": "6bb009af-e711-4772-ae7f-5f5d64544f80"
   },
   "outputs": [
    {
     "data": {
      "image/png": "[encoded data removed]",
      "text/plain": [
       "<Figure size 432x288 with 1 Axes>"
      ]
     },
     "metadata": {
      "tags": []
     },
     "output_type": "display_data"
    }
   ],
   "source": [
    "fig, ax = plt.subplots()\n",
    "plt.title('Distribution of ratings over Training dataset', fontsize=15)\n",
    "sns.countplot(train_df.rating)\n",
    "ax.set_yticklabels([human(item, 'M') for item in ax.get_yticks()])\n",
    "ax.set_ylabel('No. of Ratings(Millions)')\n",
    "\n",
    "plt.show()"
   ]
  },
  {
   "cell_type": "code",
   "execution_count": null,
   "metadata": {
    "colab": {},
    "colab_type": "code",
    "id": "8sF8_F0cd7Y7"
   },
   "outputs": [],
   "source": [
    "train_df['day_of_week'] = train_df.date.dt.weekday_name"
   ]
  },
  {
   "cell_type": "code",
   "execution_count": null,
   "metadata": {
    "colab": {},
    "colab_type": "code",
    "id": "kYWHh9tEd7Y_",
    "outputId": "f9a96c6f-cdbb-4351-8472-3e7d999bc8d9"
   },
   "outputs": [
    {
     "data": {
      "text/html": [
       "<div>\n",
       "<style scoped>\n",
       "    .dataframe tbody tr th:only-of-type {\n",
       "        vertical-align: middle;\n",
       "    }\n",
       "\n",
       "    .dataframe tbody tr th {\n",
       "        vertical-align: top;\n",
       "    }\n",
       "\n",
       "    .dataframe thead th {\n",
       "        text-align: right;\n",
       "    }\n",
       "</style>\n",
       "<table border=\"1\" class=\"dataframe\">\n",
       "  <thead>\n",
       "    <tr style=\"text-align: right;\">\n",
       "      <th></th>\n",
       "      <th>movie</th>\n",
       "      <th>user</th>\n",
       "      <th>rating</th>\n",
       "      <th>date</th>\n",
       "      <th>day_of_week</th>\n",
       "    </tr>\n",
       "  </thead>\n",
       "  <tbody>\n",
       "    <tr>\n",
       "      <th>0</th>\n",
       "      <td>10341</td>\n",
       "      <td>510180</td>\n",
       "      <td>4</td>\n",
       "      <td>1999-11-11</td>\n",
       "      <td>Thursday</td>\n",
       "    </tr>\n",
       "    <tr>\n",
       "      <th>1</th>\n",
       "      <td>1798</td>\n",
       "      <td>510180</td>\n",
       "      <td>5</td>\n",
       "      <td>1999-11-11</td>\n",
       "      <td>Thursday</td>\n",
       "    </tr>\n",
       "    <tr>\n",
       "      <th>2</th>\n",
       "      <td>10774</td>\n",
       "      <td>510180</td>\n",
       "      <td>3</td>\n",
       "      <td>1999-11-11</td>\n",
       "      <td>Thursday</td>\n",
       "    </tr>\n",
       "    <tr>\n",
       "      <th>3</th>\n",
       "      <td>8651</td>\n",
       "      <td>510180</td>\n",
       "      <td>2</td>\n",
       "      <td>1999-11-11</td>\n",
       "      <td>Thursday</td>\n",
       "    </tr>\n",
       "    <tr>\n",
       "      <th>4</th>\n",
       "      <td>14660</td>\n",
       "      <td>510180</td>\n",
       "      <td>2</td>\n",
       "      <td>1999-11-11</td>\n",
       "      <td>Thursday</td>\n",
       "    </tr>\n",
       "  </tbody>\n",
       "</table>\n",
       "</div>"
      ],
      "text/plain": [
       "   movie    user  rating       date day_of_week\n",
       "0  10341  510180       4 1999-11-11    Thursday\n",
       "1   1798  510180       5 1999-11-11    Thursday\n",
       "2  10774  510180       3 1999-11-11    Thursday\n",
       "3   8651  510180       2 1999-11-11    Thursday\n",
       "4  14660  510180       2 1999-11-11    Thursday"
      ]
     },
     "execution_count": 42,
     "metadata": {
      "tags": []
     },
     "output_type": "execute_result"
    }
   ],
   "source": [
    "train_df.head()"
   ]
  },
  {
   "cell_type": "markdown",
   "metadata": {
    "colab_type": "text",
    "id": "FBy68eb4d7ZD"
   },
   "source": [
    "**Number of Ratings per Month**"
   ]
  },
  {
   "cell_type": "code",
   "execution_count": null,
   "metadata": {
    "colab": {},
    "colab_type": "code",
    "id": "p8gM7pfJd7ZE",
    "outputId": "b2d51ff4-2c74-432c-9ffc-8f14c15f4859"
   },
   "outputs": [
    {
     "data": {
      "image/png": "[encoded data removed]",
      "text/plain": [
       "<Figure size 432x288 with 1 Axes>"
      ]
     },
     "metadata": {
      "tags": []
     },
     "output_type": "display_data"
    }
   ],
   "source": [
    "ax = train_df.resample('m', on='date')['rating'].count().plot()\n",
    "ax.set_title('No of ratings per month (Training data)')\n",
    "plt.xlabel('Month')\n",
    "plt.ylabel('No of ratings(per month)')\n",
    "ax.set_yticklabels([human(item, 'M') for item in ax.get_yticks()])\n",
    "plt.show()"
   ]
  },
  {
   "cell_type": "markdown",
   "metadata": {
    "colab_type": "text",
    "id": "bD1CLQcnd7ZG"
   },
   "source": [
    "**Analysing Ratings per User**"
   ]
  },
  {
   "cell_type": "code",
   "execution_count": null,
   "metadata": {
    "colab": {},
    "colab_type": "code",
    "id": "YyaDaPLhd7ZH"
   },
   "outputs": [],
   "source": [
    "nrated_movies_users= train_df.groupby(by='user')['rating'].count().sort_values(ascending=False)"
   ]
  },
  {
   "cell_type": "code",
   "execution_count": null,
   "metadata": {
    "colab": {},
    "colab_type": "code",
    "id": "3Rj2kzfhd7ZJ",
    "outputId": "3bb8e981-50e2-4b17-ec6c-8d1734ba88e1"
   },
   "outputs": [
    {
     "data": {
      "text/plain": [
       "user\n",
       "305344     17112\n",
       "2439493    15896\n",
       "387418     15402\n",
       "1639792     9767\n",
       "1461435     9447\n",
       "Name: rating, dtype: int64"
      ]
     },
     "execution_count": 46,
     "metadata": {
      "tags": []
     },
     "output_type": "execute_result"
    }
   ],
   "source": [
    "nrated_movies_users.head()"
   ]
  },
  {
   "cell_type": "code",
   "execution_count": null,
   "metadata": {
    "colab": {},
    "colab_type": "code",
    "id": "h3582hEod7ZM",
    "outputId": "155a746c-9060-4c38-96d7-106495c8546d"
   },
   "outputs": [
    {
     "data": {
      "image/png": "[encoded data removed]",
      "text/plain": [
       "<Figure size 576x288 with 2 Axes>"
      ]
     },
     "metadata": {
      "tags": []
     },
     "output_type": "display_data"
    }
   ],
   "source": [
    "fig = plt.figure(figsize=plt.figaspect(.5))\n",
    "ax1 = plt.subplot(121)\n",
    "sns.kdeplot(nrated_movies_users, shade=True, ax=ax1)\n",
    "plt.xlabel('No of ratings by user')\n",
    "plt.title(\"PDF\")\n",
    "\n",
    "ax2 = plt.subplot(122)\n",
    "sns.kdeplot(nrated_movies_users, shade=True, cumulative=True,ax=ax2)\n",
    "plt.xlabel('No of ratings by user')\n",
    "plt.title('CDF')\n",
    "\n",
    "plt.show()"
   ]
  },
  {
   "cell_type": "markdown",
   "metadata": {
    "colab_type": "text",
    "id": "l__fyjYcd7ZO"
   },
   "source": [
    "**Number of Ratings per User are Skewed**\n",
    "\n"
   ]
  },
  {
   "cell_type": "code",
   "execution_count": null,
   "metadata": {
    "colab": {},
    "colab_type": "code",
    "id": "I3DI07Uxd7ZP",
    "outputId": "6aa64b5b-359a-4b7d-c689-9895f3594cc1"
   },
   "outputs": [
    {
     "data": {
      "text/plain": [
       "count    405041.000000\n",
       "mean        198.459921\n",
       "std         290.793238\n",
       "min           1.000000\n",
       "25%          34.000000\n",
       "50%          89.000000\n",
       "75%         245.000000\n",
       "max       17112.000000\n",
       "Name: rating, dtype: float64"
      ]
     },
     "execution_count": 48,
     "metadata": {
      "tags": []
     },
     "output_type": "execute_result"
    }
   ],
   "source": [
    "nrated_movies_users.describe()"
   ]
  },
  {
   "cell_type": "code",
   "execution_count": null,
   "metadata": {
    "colab": {},
    "colab_type": "code",
    "id": "Vp0w1hrod7ZS"
   },
   "outputs": [],
   "source": [
    "quantiles = nrated_movies_users.quantile(np.arange(0,1.01,0.01), interpolation='higher')"
   ]
  },
  {
   "cell_type": "code",
   "execution_count": null,
   "metadata": {
    "colab": {},
    "colab_type": "code",
    "id": "JDT30nsod7ZU",
    "outputId": "ad03afa5-d71c-4124-befa-8836d0454cd0"
   },
   "outputs": [
    {
     "data": {
      "image/png": "[encoded data removed]",
      "text/plain": [
       "<Figure size 432x288 with 1 Axes>"
      ]
     },
     "metadata": {
      "tags": []
     },
     "output_type": "display_data"
    }
   ],
   "source": [
    "plt.title(\"Quantiles and their Values\")\n",
    "quantiles.plot()\n",
    "plt.scatter(x=quantiles.index[::5], y=quantiles.values[::5], c='orange', label=\"quantiles with 0.05 intervals\")\n",
    "plt.scatter(x=quantiles.index[::25], y=quantiles.values[::25], c='m', label = \"quantiles with 0.25 intervals\")\n",
    "plt.ylabel('No of ratings by user')\n",
    "plt.xlabel('Value at the quantile')\n",
    "plt.legend(loc='best')\n",
    "\n",
    "\n",
    "for x,y in zip(quantiles.index[::25], quantiles[::25]):\n",
    "    plt.annotate(s=\"({} , {})\".format(x,y), xy=(x,y), xytext=(x-0.05, y+500),fontweight='bold')\n",
    "plt.show()"
   ]
  },
  {
   "cell_type": "code",
   "execution_count": null,
   "metadata": {
    "colab": {},
    "colab_type": "code",
    "id": "Bx44M5Yed7ZX",
    "outputId": "08d6dee1-a3d2-4fe9-ee11-204405388738"
   },
   "outputs": [
    {
     "data": {
      "text/plain": [
       "0.00        1\n",
       "0.05        7\n",
       "0.10       15\n",
       "0.15       21\n",
       "0.20       27\n",
       "0.25       34\n",
       "0.30       41\n",
       "0.35       50\n",
       "0.40       60\n",
       "0.45       73\n",
       "0.50       89\n",
       "0.55      109\n",
       "0.60      133\n",
       "0.65      163\n",
       "0.70      199\n",
       "0.75      245\n",
       "0.80      307\n",
       "0.85      392\n",
       "0.90      520\n",
       "0.95      749\n",
       "1.00    17112\n",
       "Name: rating, dtype: int64"
      ]
     },
     "execution_count": 51,
     "metadata": {
      "tags": []
     },
     "output_type": "execute_result"
    }
   ],
   "source": [
    "quantiles[::5]"
   ]
  },
  {
   "cell_type": "code",
   "execution_count": null,
   "metadata": {
    "colab": {},
    "colab_type": "code",
    "id": "MvGrPPvud7Za",
    "outputId": "c484846c-07af-4e1f-877f-100684d38623"
   },
   "outputs": [
    {
     "name": "stdout",
     "output_type": "stream",
     "text": [
      "No of ratings at last 5 percentile : 20305\n"
     ]
    }
   ],
   "source": [
    "print('No of ratings at last 5 percentile :',(sum(nrated_movies_users>= 749)))"
   ]
  },
  {
   "cell_type": "markdown",
   "metadata": {
    "colab_type": "text",
    "id": "VKDJBJDFd7Zd"
   },
   "source": [
    "**Analysing Number of Ratings per Movie**"
   ]
  },
  {
   "cell_type": "code",
   "execution_count": null,
   "metadata": {
    "colab": {},
    "colab_type": "code",
    "id": "ykGqJDS9d7Ze",
    "outputId": "c0aa9790-fd5c-4570-89f7-1e9a1ee9b876"
   },
   "outputs": [
    {
     "data": {
      "image/png": "[encoded data removed]",
      "text/plain": [
       "<Figure size 576x288 with 1 Axes>"
      ]
     },
     "metadata": {
      "tags": []
     },
     "output_type": "display_data"
    }
   ],
   "source": [
    "nrated_per_movie = train_df.groupby(by='movie')['rating'].count().sort_values(ascending=False)\n",
    "\n",
    "fig = plt.figure(figsize=plt.figaspect(.5))\n",
    "ax = plt.gca()\n",
    "plt.plot(nrated_per_movie.values)\n",
    "plt.title(' Ratings per Movie')\n",
    "plt.xlabel('Movie')\n",
    "plt.ylabel('No of Users who rated a movie')\n",
    "ax.set_xticklabels([])\n",
    "\n",
    "plt.show()"
   ]
  },
  {
   "cell_type": "markdown",
   "metadata": {
    "colab_type": "text",
    "id": "f5rliZGEd7Zg"
   },
   "source": [
    "**Observations**\n",
    "\n",
    "- It is very skewed.. just like nunmber of ratings given per user.\n",
    "- There are some movies (which are very popular) which are rated by huge number of users.\n",
    "- But most of the movies(like 90%) got some hundereds of ratings"
   ]
  },
  {
   "cell_type": "markdown",
   "metadata": {
    "colab_type": "text",
    "id": "q-_239gjd7Zh"
   },
   "source": [
    "**Number of Ratings on each Day**"
   ]
  },
  {
   "cell_type": "code",
   "execution_count": null,
   "metadata": {
    "colab": {},
    "colab_type": "code",
    "id": "pFDxD-u3d7Zh",
    "outputId": "23785201-2f0f-42e1-d12d-bfe32f67bedf"
   },
   "outputs": [
    {
     "data": {
      "image/png": "[encoded data removed]",
      "text/plain": [
       "<Figure size 432x288 with 1 Axes>"
      ]
     },
     "metadata": {
      "tags": []
     },
     "output_type": "display_data"
    }
   ],
   "source": [
    "fig, ax = plt.subplots()\n",
    "sns.countplot(x='day_of_week', data=train_df, ax=ax)\n",
    "plt.title('No of ratings on each day...')\n",
    "plt.ylabel('Total no of ratings')\n",
    "plt.xlabel('')\n",
    "ax.set_yticklabels([human(item, 'M') for item in ax.get_yticks()])\n",
    "plt.show()"
   ]
  },
  {
   "cell_type": "code",
   "execution_count": null,
   "metadata": {
    "colab": {},
    "colab_type": "code",
    "id": "AdhSXCiid7Zk",
    "outputId": "5a292a4d-4435-49c9-93b8-2c1e62ccb019"
   },
   "outputs": [
    {
     "data": {
      "image/png": "[encoded data removed]",
      "text/plain": [
       "<Figure size 640x288 with 1 Axes>"
      ]
     },
     "metadata": {
      "tags": []
     },
     "output_type": "display_data"
    }
   ],
   "source": [
    "fig = plt.figure(figsize=plt.figaspect(.45))\n",
    "sns.boxplot(y='rating', x='day_of_week', data=train_df)\n",
    "plt.show()"
   ]
  },
  {
   "cell_type": "code",
   "execution_count": null,
   "metadata": {
    "colab": {},
    "colab_type": "code",
    "id": "e_mgrYCHd7Zn",
    "outputId": "77f864f1-2393-4a4d-ac49-d5cfa63b9f39"
   },
   "outputs": [
    {
     "name": "stdout",
     "output_type": "stream",
     "text": [
      " Average ratings\n",
      "------------------------------\n",
      "day_of_week\n",
      "Friday       3.585274\n",
      "Monday       3.577250\n",
      "Saturday     3.591791\n",
      "Sunday       3.594144\n",
      "Thursday     3.582463\n",
      "Tuesday      3.574438\n",
      "Wednesday    3.583751\n",
      "Name: rating, dtype: float64\n",
      "\n",
      "\n"
     ]
    }
   ],
   "source": [
    "avg_week_df = train_df.groupby(by=['day_of_week'])['rating'].mean()\n",
    "print(\" Average ratings\")\n",
    "print(\"-\"*30)\n",
    "print(avg_week_df)\n",
    "print(\"\\n\")"
   ]
  },
  {
   "cell_type": "markdown",
   "metadata": {
    "colab_type": "text",
    "id": "jaDurYc-d7Zp"
   },
   "source": [
    "### Creating Sparse Matrix from DataFrame"
   ]
  },
  {
   "cell_type": "markdown",
   "metadata": {
    "colab_type": "text",
    "id": "zbNQBWJud7Zq"
   },
   "source": [
    "**Train**"
   ]
  },
  {
   "cell_type": "code",
   "execution_count": null,
   "metadata": {
    "colab": {},
    "colab_type": "code",
    "id": "Xr8NxNNdd7Zr"
   },
   "outputs": [],
   "source": [
    "train_sparse_matrix = sparse.csr_matrix((train_df.rating.values, (train_df.user.values,train_df.movie.values)),)\n",
    "sparse.save_npz(\"train_sparse_matrix.npz\", train_sparse_matrix)"
   ]
  },
  {
   "cell_type": "code",
   "execution_count": null,
   "metadata": {
    "colab": {},
    "colab_type": "code",
    "id": "uyEfSiWGd7Zs",
    "outputId": "ead607ff-e484-472c-8b10-d6c0a75f97d3"
   },
   "outputs": [
    {
     "name": "stdout",
     "output_type": "stream",
     "text": [
      "Train Matrix shape is : (user, movie) :  (2649430, 17771)\n"
     ]
    }
   ],
   "source": [
    "train_sparse_matrix = sparse.load_npz('train_sparse_matrix.npz')\n",
    "print('Train Matrix shape is : (user, movie) : ',train_sparse_matrix.shape)"
   ]
  },
  {
   "cell_type": "code",
   "execution_count": null,
   "metadata": {
    "colab": {},
    "colab_type": "code",
    "id": "gOJaou-pd7Zu",
    "outputId": "83db2942-2f36-4f63-f4e3-294a3c9c6ea9"
   },
   "outputs": [
    {
     "name": "stdout",
     "output_type": "stream",
     "text": [
      "Sparsity Of Train matrix : 99.8292709259195 % \n"
     ]
    }
   ],
   "source": [
    "us,mv = train_sparse_matrix.shape\n",
    "elem = train_sparse_matrix.count_nonzero()\n",
    "\n",
    "print(\"Sparsity Of Train matrix : {} % \".format(  (1-(elem/(us*mv))) * 100) )"
   ]
  },
  {
   "cell_type": "markdown",
   "metadata": {
    "colab_type": "text",
    "id": "bdHJ2CjId7Zw"
   },
   "source": [
    "***\n",
    "\n",
    "**Test**"
   ]
  },
  {
   "cell_type": "code",
   "execution_count": null,
   "metadata": {
    "colab": {},
    "colab_type": "code",
    "id": "t04ogxQgd7Zx"
   },
   "outputs": [],
   "source": [
    "test_sparse_matrix = sparse.csr_matrix((test_df.rating.values, (test_df.user.values,test_df.movie.values)),)\n",
    "sparse.save_npz(\"test_sparse_matrix.npz\", test_sparse_matrix)"
   ]
  },
  {
   "cell_type": "code",
   "execution_count": null,
   "metadata": {
    "colab": {},
    "colab_type": "code",
    "id": "k02vLVQld7Zz",
    "outputId": "b859f7e9-028a-4f31-963d-0e9f0190a944"
   },
   "outputs": [
    {
     "name": "stdout",
     "output_type": "stream",
     "text": [
      "Test Matrix shape is : (user, movie) :  (2649430, 17771)\n"
     ]
    }
   ],
   "source": [
    "test_sparse_matrix = sparse.load_npz('test_sparse_matrix.npz')\n",
    "print('Test Matrix shape is : (user, movie) : ',test_sparse_matrix.shape)"
   ]
  },
  {
   "cell_type": "code",
   "execution_count": null,
   "metadata": {
    "colab": {},
    "colab_type": "code",
    "id": "sipP9Sd4d7Z2",
    "outputId": "bc699d62-499b-4ea1-bc2d-2aca65c232c2"
   },
   "outputs": [
    {
     "name": "stdout",
     "output_type": "stream",
     "text": [
      "Sparsity Of Test matrix : 99.95731772988694 % \n"
     ]
    }
   ],
   "source": [
    "us,mv = test_sparse_matrix.shape\n",
    "elem = test_sparse_matrix.count_nonzero()\n",
    "\n",
    "print(\"Sparsity Of Test matrix : {} % \".format(  (1-(elem/(us*mv))) * 100) )"
   ]
  },
  {
   "cell_type": "code",
   "execution_count": null,
   "metadata": {
    "colab": {},
    "colab_type": "code",
    "id": "ax60DccVd7Z4"
   },
   "outputs": [],
   "source": [
    "def get_averages(sparse_m,flag):\n",
    "    #movie,user 0,1\n",
    "    \n",
    "    sumRatings=sparse_m.sum(axis=flag).A1\n",
    "    rated = sparse_m!=0\n",
    "    numRatings=rated.sum(axis=flag).A1\n",
    "    \n",
    "    u,m = sparse_m.shape\n",
    "    x=u if flag is 1 else m \n",
    "    avgRatings={ i : sumRatings[i]/numRatings[i] for i in range(x) if numRatings[i] !=0}\n",
    "    \n",
    "    return avgRatings"
   ]
  },
  {
   "cell_type": "markdown",
   "metadata": {
    "colab_type": "text",
    "id": "7-MSHVYjd7Z-"
   },
   "source": [
    "**Global Average of Movie Ratings**"
   ]
  },
  {
   "cell_type": "code",
   "execution_count": null,
   "metadata": {
    "colab": {},
    "colab_type": "code",
    "id": "OcVAzeWad7Z_",
    "outputId": "9c21d711-0ebd-4a9c-c85d-bb30f4a347a9"
   },
   "outputs": [
    {
     "name": "stdout",
     "output_type": "stream",
     "text": [
      "Global Ratings of Movie Ratings : 3.582890686321557\n"
     ]
    }
   ],
   "source": [
    "train_averages ={}\n",
    "train_global_average = train_sparse_matrix.sum()/train_sparse_matrix.count_nonzero()\n",
    "train_averages['global'] = train_global_average\n",
    "print('Global Ratings of Movie Ratings :',train_global_average)"
   ]
  },
  {
   "cell_type": "markdown",
   "metadata": {
    "colab_type": "text",
    "id": "A9tcDMw9d7aC"
   },
   "source": [
    "**Average Ratings per User**"
   ]
  },
  {
   "cell_type": "code",
   "execution_count": null,
   "metadata": {
    "colab": {},
    "colab_type": "code",
    "id": "nQzfjGK2d7aD",
    "outputId": "6c61d29d-6c1c-4f72-ffc1-12b37b10bbef"
   },
   "outputs": [
    {
     "name": "stdout",
     "output_type": "stream",
     "text": [
      "\n",
      " Average rating of user  0  is :  3.5160550458715596\n",
      "\n",
      " Average rating of user  1  is :  3.992957746478873\n",
      "\n",
      " Average rating of user  2  is :  3.3781094527363185\n",
      "\n",
      " Average rating of user  3  is :  3.5\n",
      "\n",
      " Average rating of user  4  is :  3.787878787878788\n"
     ]
    }
   ],
   "source": [
    "train_averages['user'] = get_averages(train_sparse_matrix,flag=1)\n",
    "for i in range(5):\n",
    "    print('\\n Average rating of user ',i,' is : ',list(train_averages['user'].values())[i])"
   ]
  },
  {
   "cell_type": "markdown",
   "metadata": {
    "colab_type": "text",
    "id": "0KHeFWowd7aF"
   },
   "source": [
    "**Average Ratings per Movie**"
   ]
  },
  {
   "cell_type": "code",
   "execution_count": null,
   "metadata": {
    "colab": {},
    "colab_type": "code",
    "id": "Q3xdbo9Wd7aF",
    "outputId": "f5f0d394-fa9c-4358-8085-df53996f7cd2"
   },
   "outputs": [
    {
     "name": "stdout",
     "output_type": "stream",
     "text": [
      "\n",
      " Average rating of user  0  is :  3.7189873417721517\n",
      "\n",
      " Average rating of user  1  is :  3.6923076923076925\n",
      "\n",
      " Average rating of user  2  is :  3.6474181010549693\n",
      "\n",
      " Average rating of user  3  is :  2.763358778625954\n",
      "\n",
      " Average rating of user  4  is :  4.036817102137767\n"
     ]
    }
   ],
   "source": [
    "train_averages['movies'] = get_averages(train_sparse_matrix,flag=0)\n",
    "for i in range(5):\n",
    "    print('\\n Average rating of user ',i,' is : ',list(train_averages['movies'].values())[i])"
   ]
  },
  {
   "cell_type": "code",
   "execution_count": null,
   "metadata": {
    "colab": {},
    "colab_type": "code",
    "id": "shUvZ3ohd7aJ",
    "outputId": "cd2009f8-c265-4c34-f50c-20320977b397"
   },
   "outputs": [
    {
     "data": {
      "image/png": "[encoded data removed]",
      "text/plain": [
       "<Figure size 432x288 with 2 Axes>"
      ]
     },
     "metadata": {
      "needs_background": "light",
      "tags": []
     },
     "output_type": "display_data"
    }
   ],
   "source": [
    "fig, (ax1, ax2) = plt.subplots(nrows=1, ncols=2)\n",
    "fig.suptitle('Avg Ratings per User and per Movie')\n",
    "\n",
    "ax1.set_title('Users-Avg-Ratings')\n",
    "user_averages = [v for v in train_averages['user'].values()]\n",
    "sns.distplot(user_averages, ax=ax1, hist=False,kde_kws=dict(cumulative=True), label='Cdf')\n",
    "sns.distplot(user_averages, ax=ax1, hist=False,label='Pdf')\n",
    "\n",
    "ax2.set_title('Movie-Avg_Ratings')\n",
    "movie_avg=[m for m in train_averages['movies'].values()]\n",
    "sns.distplot(movie_avg,ax=ax2,hist=False,kde_kws=dict(cumulative=True), label='Cdf')\n",
    "sns.distplot(movie_avg,ax=ax2,hist=False,label='Pdf')\n",
    "\n",
    "plt.show()"
   ]
  },
  {
   "cell_type": "markdown",
   "metadata": {
    "colab_type": "text",
    "id": "SnbIfXlCd7aL"
   },
   "source": [
    "***\n",
    "\n",
    "## Cold start problem\n",
    "When we encounter new 'Users' or 'Movies'\n",
    "\n",
    "**Total Users in Dataset : 480189**\n"
   ]
  },
  {
   "cell_type": "code",
   "execution_count": null,
   "metadata": {
    "colab": {},
    "colab_type": "code",
    "id": "fU8NrNAId7aM",
    "outputId": "6bbe580d-ea57-4fe4-d28b-244976004a7a"
   },
   "outputs": [
    {
     "name": "stdout",
     "output_type": "stream",
     "text": [
      "Number of Users in train data : 405041\n",
      "Number of Users that are not in train data :75148 (19.0%)\n"
     ]
    }
   ],
   "source": [
    "t_usr=len(train_averages['user'].values())\n",
    "n_usr=480189-t_usr\n",
    "print('Number of Users in train data :',t_usr)\n",
    "print('Number of Users that are not in train data :{} ({}%)'.format(n_usr,np.round(n_usr/t_usr*100)))"
   ]
  },
  {
   "cell_type": "markdown",
   "metadata": {
    "colab_type": "text",
    "id": "xAB4O_MKd7aO"
   },
   "source": [
    "**Total Movies in Dataset : 17770**"
   ]
  },
  {
   "cell_type": "code",
   "execution_count": null,
   "metadata": {
    "colab": {},
    "colab_type": "code",
    "id": "7XxocsMRd7aP",
    "outputId": "f5fa1c49-60e9-4556-f136-b807bdac22b7"
   },
   "outputs": [
    {
     "name": "stdout",
     "output_type": "stream",
     "text": [
      "Number of Users in train data : 17424\n",
      "Number of Users that are not in train data :346 (2.0%)\n"
     ]
    }
   ],
   "source": [
    "t_m=len(train_averages['movies'].values())\n",
    "n_m=17770-t_m\n",
    "print('Number of Users in train data :',t_m)\n",
    "print('Number of Users that are not in train data :{} ({}%)'.format(n_m,np.round(n_m/t_m*100)))"
   ]
  },
  {
   "cell_type": "markdown",
   "metadata": {
    "colab_type": "text",
    "id": "AXT6GlL-d7aQ"
   },
   "source": [
    "***\n",
    "\n",
    "## Computing Similarity Matrix\n",
    "\n",
    "### 1. User-User Similarity Matrix"
   ]
  },
  {
   "cell_type": "markdown",
   "metadata": {
    "colab_type": "text",
    "id": "6LJcPxvdd7aR"
   },
   "source": [
    "**Calculating for all 17K Dimensions**"
   ]
  },
  {
   "cell_type": "code",
   "execution_count": null,
   "metadata": {
    "colab": {},
    "colab_type": "code",
    "id": "t2rUyWQBd7aR"
   },
   "outputs": [],
   "source": [
    "def user_similarity(sparse_matrix,top=50,vrows= 10):\n",
    "    numusers,_ = sparse_matrix.shape\n",
    "    row_ind,col_ind = sparse_matrix.nonzero()\n",
    "    row_ind=sorted(set(row_ind))\n",
    "    time_taken =[]\n",
    "    \n",
    "    rows, cols, data = [],[],[]\n",
    "    print(\"Computing top\",top,\"Similarities for each user\")\n",
    "    start = datetime.now()\n",
    "    t = 0\n",
    "    \n",
    "    for row in row_ind[:top]:\n",
    "        t+=1\n",
    "        prev=datetime.now()\n",
    "        \n",
    "        #Getting similarity with all users\n",
    "        sim=cosine_similarity(sparse_matrix.getrow(row), sparse_matrix).ravel()\n",
    "        \n",
    "        #getting only top values\n",
    "        sim_ind=sim.argsort()[-top:]\n",
    "        sim_vals=sim[sim_ind]\n",
    "        \n",
    "        #add to rows cols data for sparse matrix\n",
    "        rows.extend([row]*top)\n",
    "        cols.extend(sim_ind)\n",
    "        data.extend(sim_vals)\n",
    "        \n",
    "        time_taken.append(datetime.now().timestamp() - prev.timestamp())\n",
    "        \n",
    "        if(t%vrows==0):print('Calculated for {} users time elapsed  {}'.format(t,datetime.now()-start))\n",
    "    print('Creating Sparse Matrix')       \n",
    "    plt.plot(time_taken, label = 'Time taken for each User')\n",
    "    plt.plot(np.cumsum(time_taken), label='Total time')\n",
    "    plt.legend(loc='best')\n",
    "    plt.xlabel('User')\n",
    "    plt.ylabel('Time (seconds)')\n",
    "    plt.show()\n",
    "    \n",
    "    return sparse.csr_matrix((data, (rows, cols)), shape=(numusers, numusers))"
   ]
  },
  {
   "cell_type": "code",
   "execution_count": null,
   "metadata": {
    "colab": {},
    "colab_type": "code",
    "id": "khFtN_8Id7aT",
    "outputId": "2c1eb064-0c92-47c5-a845-713da9dce0ec"
   },
   "outputs": [
    {
     "name": "stdout",
     "output_type": "stream",
     "text": [
      "Computing top 50 Similarities for each user\n",
      "Calculated for 10 users time elapsed  0:00:33.485571\n",
      "Calculated for 20 users time elapsed  0:01:06.151391\n",
      "Calculated for 30 users time elapsed  0:01:40.402787\n",
      "Calculated for 40 users time elapsed  0:02:14.325154\n",
      "Calculated for 50 users time elapsed  0:02:46.409568\n",
      "Creating Sparse Matrix\n"
     ]
    },
    {
     "data": {
      "image/png": "[encoded data removed]",
      "text/plain": [
       "<Figure size 432x288 with 1 Axes>"
      ]
     },
     "metadata": {
      "tags": []
     },
     "output_type": "display_data"
    },
    {
     "name": "stdout",
     "output_type": "stream",
     "text": [
      "----------------------------------------------------------------------------------------------------\n",
      "Time taken : 0:02:58.408415\n"
     ]
    }
   ],
   "source": [
    "start = datetime.now()\n",
    "user_user = user_similarity(train_sparse_matrix)\n",
    "print(\"-\"*100)\n",
    "print(\"Time taken :\",datetime.now()-start)"
   ]
  },
  {
   "cell_type": "markdown",
   "metadata": {
    "colab_type": "text",
    "id": "lCMLJyZbd7aW"
   },
   "source": [
    "**Each user takes around 3.34 secs we have 405041×3.34 = 135283.94 s =22547.2823 min = 375.5 hours**\n",
    "\n",
    "**We will Reduce the Dimensionality of vector using SVD 17k to 500**"
   ]
  },
  {
   "cell_type": "code",
   "execution_count": null,
   "metadata": {
    "colab": {},
    "colab_type": "code",
    "id": "1vOJohr1d7aX"
   },
   "outputs": [],
   "source": [
    "%%time\n",
    "\n",
    "netflix_svd = TruncatedSVD(n_components=500, algorithm='randomized', random_state=15)\n",
    "trunc_svd = netflix_svd.fit_transform(train_sparse_matrix)"
   ]
  },
  {
   "cell_type": "code",
   "execution_count": null,
   "metadata": {
    "colab": {},
    "colab_type": "code",
    "id": "1W3TRz4Nd7aY",
    "outputId": "0248e0c4-4214-4c6e-ed94-e00991810bdf"
   },
   "outputs": [
    {
     "data": {
      "image/png": "[encoded data removed]",
      "text/plain": [
       "<Figure size 432x288 with 1 Axes>"
      ]
     },
     "metadata": {
      "needs_background": "light",
      "tags": []
     },
     "output_type": "display_data"
    }
   ],
   "source": [
    "laten={1:0.23,2:0.26,4:0.3,8:0.34,20:0.38,60:0.44,100:0.47,200:0.53,300:0.57,400:0.61,500:0.64}\n",
    "plt.plot(*zip(*sorted(laten.items())))\n",
    "plt.title('Latent Factors vs Variance')\n",
    "plt.xlabel('Latent factors')\n",
    "plt.ylabel('Variance explained')\n",
    "plt.scatter(x = [i for i in laten.keys()], y =[i for i in laten.values()], c='#ff3300')\n",
    "\n",
    "for i in laten.keys():\n",
    "    plt.annotate(s =\"({}, {})\".format(i,  np.round(laten[i], 2)), xy=(i-1, laten[i]),\n",
    "                xytext = ( i+1, laten[i] - 0.01), fontweight='bold')\n",
    "plt.show()\n"
   ]
  },
  {
   "cell_type": "markdown",
   "metadata": {
    "colab_type": "text",
    "id": "KiK7ts9fd7aa"
   },
   "source": [
    "**Observations :**\n",
    "- With increasing Latent Factors variance explained also increases\n",
    "- 500 Latent Factors explain 64% variance."
   ]
  },
  {
   "cell_type": "code",
   "execution_count": null,
   "metadata": {
    "colab": {},
    "colab_type": "code",
    "id": "uYbpH1w6d7ac"
   },
   "outputs": [],
   "source": [
    "#projecting to 500 dims\n",
    "trunc_matrix = train_sparse_matrix.dot(netflix_svd.components_.T)"
   ]
  },
  {
   "cell_type": "code",
   "execution_count": null,
   "metadata": {
    "colab": {},
    "colab_type": "code",
    "id": "_-TqB6xFd7ad"
   },
   "outputs": [],
   "source": [
    "if not os.path.isfile('trunc_sparse_matrix.npz'):\n",
    "    trunc_sparse_matrix = sparse.csr_matrix(trunc_matrix)\n",
    "    sparse.save_npz('trunc_sparse_matrix', trunc_sparse_matrix) "
   ]
  },
  {
   "cell_type": "code",
   "execution_count": null,
   "metadata": {
    "colab": {},
    "colab_type": "code",
    "id": "PY1OOjArd7af"
   },
   "outputs": [],
   "source": [
    "trunc_sparse_matrix = sparse.load_npz('trunc_sparse_matrix.npz')"
   ]
  },
  {
   "cell_type": "code",
   "execution_count": null,
   "metadata": {
    "colab": {},
    "colab_type": "code",
    "id": "vUzSMSr-d7ag",
    "outputId": "c2152db1-90e3-4d4d-d575-4b67f98e7f8a"
   },
   "outputs": [
    {
     "data": {
      "text/plain": [
       "(2649430, 500)"
      ]
     },
     "execution_count": 37,
     "metadata": {
      "tags": []
     },
     "output_type": "execute_result"
    }
   ],
   "source": [
    "trunc_sparse_matrix.shape"
   ]
  },
  {
   "cell_type": "code",
   "execution_count": null,
   "metadata": {
    "colab": {},
    "colab_type": "code",
    "id": "IeMt9gUFd7aj",
    "outputId": "acc206c8-fb94-4549-98fd-02702fcaa508"
   },
   "outputs": [
    {
     "name": "stdout",
     "output_type": "stream",
     "text": [
      "Computing top 50 Similarities for each user\n",
      "Calculated for 10 users time elapsed  0:00:55.782314\n",
      "Calculated for 20 users time elapsed  0:01:50.449898\n",
      "Calculated for 30 users time elapsed  0:02:46.719958\n",
      "Calculated for 40 users time elapsed  0:03:42.663770\n",
      "Calculated for 50 users time elapsed  0:04:40.471972\n",
      "Creating Sparse Matrix\n"
     ]
    },
    {
     "data": {
      "image/png": "[encoded data removed]",
      "text/plain": [
       "<Figure size 432x288 with 1 Axes>"
      ]
     },
     "metadata": {
      "needs_background": "light",
      "tags": []
     },
     "output_type": "display_data"
    },
    {
     "name": "stdout",
     "output_type": "stream",
     "text": [
      "Time Taken : 0:05:01.716094\n"
     ]
    }
   ],
   "source": [
    "start = datetime.now()\n",
    "truncated_user_user = user_similarity(trunc_sparse_matrix)\n",
    "print(\"Time Taken :\",datetime.now()-start)"
   ]
  },
  {
   "cell_type": "markdown",
   "metadata": {
    "colab_type": "text",
    "id": "b3brfmBSd7al"
   },
   "source": [
    "- It takes 5.5s for a single user\n",
    "- Total time taken for all users =  405041 * 5.5 =2227725.5s = 37128.75 mins = 618.81hrs\n",
    "\n",
    "\n",
    "\n",
    "**Computing user similarity at runtime**\n",
    "\n",
    "- We take a Binary vector showing if user values have been computed earlier or not\n",
    "- We compute only top 1000 similar users to a given user and save it and mark it"
   ]
  },
  {
   "cell_type": "markdown",
   "metadata": {
    "colab_type": "text",
    "id": "AZi0-L2zd7al"
   },
   "source": [
    "\n",
    "### 2. Movie Movie Similarity Matrix"
   ]
  },
  {
   "cell_type": "code",
   "execution_count": null,
   "metadata": {
    "colab": {},
    "colab_type": "code",
    "id": "znqyqnV6d7am",
    "outputId": "5decaf3a-fe2c-46b8-8bb6-4a3247591ecb"
   },
   "outputs": [
    {
     "name": "stdout",
     "output_type": "stream",
     "text": [
      "Wall time: 7min 30s\n"
     ]
    }
   ],
   "source": [
    "%%time\n",
    "movie_movie = cosine_similarity(X=train_sparse_matrix.T, dense_output=False)\n",
    "sparse.save_npz(\"mov_mov_sim.npz\", movie_movie)"
   ]
  },
  {
   "cell_type": "code",
   "execution_count": null,
   "metadata": {
    "colab": {},
    "colab_type": "code",
    "id": "PlmG5Vyjd7ao"
   },
   "outputs": [],
   "source": [
    "mov_mov = sparse.load_npz(\"mov_mov_sim.npz\")"
   ]
  },
  {
   "cell_type": "code",
   "execution_count": null,
   "metadata": {
    "colab": {},
    "colab_type": "code",
    "id": "tlBWTt8Nd7aq",
    "outputId": "16a3f533-0be8-4993-f546-3ba06269f3b6"
   },
   "outputs": [
    {
     "data": {
      "text/plain": [
       "(17771, 17771)"
      ]
     },
     "execution_count": 48,
     "metadata": {
      "tags": []
     },
     "output_type": "execute_result"
    }
   ],
   "source": [
    "mov_mov.shape"
   ]
  },
  {
   "cell_type": "markdown",
   "metadata": {
    "colab_type": "text",
    "id": "90uVp_p2d7as"
   },
   "source": [
    "#### Finding similar Movies using Similarity Matrix"
   ]
  },
  {
   "cell_type": "code",
   "execution_count": null,
   "metadata": {
    "colab": {},
    "colab_type": "code",
    "id": "K6wshavld7as",
    "outputId": "867d258a-578c-4a09-c1e2-981a069e0bd5"
   },
   "outputs": [
    {
     "data": {
      "text/html": [
       "<div>\n",
       "<style scoped>\n",
       "    .dataframe tbody tr th:only-of-type {\n",
       "        vertical-align: middle;\n",
       "    }\n",
       "\n",
       "    .dataframe tbody tr th {\n",
       "        vertical-align: top;\n",
       "    }\n",
       "\n",
       "    .dataframe thead th {\n",
       "        text-align: right;\n",
       "    }\n",
       "</style>\n",
       "<table border=\"1\" class=\"dataframe\">\n",
       "  <thead>\n",
       "    <tr style=\"text-align: right;\">\n",
       "      <th></th>\n",
       "      <th>year_of_release</th>\n",
       "      <th>title</th>\n",
       "    </tr>\n",
       "    <tr>\n",
       "      <th>movie_id</th>\n",
       "      <th></th>\n",
       "      <th></th>\n",
       "    </tr>\n",
       "  </thead>\n",
       "  <tbody>\n",
       "    <tr>\n",
       "      <th>1</th>\n",
       "      <td>2003.0</td>\n",
       "      <td>Dinosaur Planet</td>\n",
       "    </tr>\n",
       "    <tr>\n",
       "      <th>2</th>\n",
       "      <td>2004.0</td>\n",
       "      <td>Isle of Man TT 2004 Review</td>\n",
       "    </tr>\n",
       "    <tr>\n",
       "      <th>3</th>\n",
       "      <td>1997.0</td>\n",
       "      <td>Character</td>\n",
       "    </tr>\n",
       "    <tr>\n",
       "      <th>4</th>\n",
       "      <td>1994.0</td>\n",
       "      <td>Paula Abdul's Get Up &amp; Dance</td>\n",
       "    </tr>\n",
       "    <tr>\n",
       "      <th>5</th>\n",
       "      <td>2004.0</td>\n",
       "      <td>The Rise and Fall of ECW</td>\n",
       "    </tr>\n",
       "  </tbody>\n",
       "</table>\n",
       "</div>"
      ],
      "text/plain": [
       "          year_of_release                         title\n",
       "movie_id                                               \n",
       "1                  2003.0               Dinosaur Planet\n",
       "2                  2004.0    Isle of Man TT 2004 Review\n",
       "3                  1997.0                     Character\n",
       "4                  1994.0  Paula Abdul's Get Up & Dance\n",
       "5                  2004.0      The Rise and Fall of ECW"
      ]
     },
     "execution_count": 59,
     "metadata": {
      "tags": []
     },
     "output_type": "execute_result"
    }
   ],
   "source": [
    "c=['movie_id', 'year_of_release', 'title']\n",
    "movie_titles = pd.read_csv(\"train/movie_titles.csv\", sep=',', header = None,names=c,index_col = 'movie_id', encoding = \"ISO-8859-1\")\n",
    "movie_titles.head()"
   ]
  },
  {
   "cell_type": "code",
   "execution_count": null,
   "metadata": {
    "colab": {},
    "colab_type": "code",
    "id": "syN_Yvq4d7av",
    "outputId": "0bba5cbe-8bce-44c7-eb52-71a72c997c3c"
   },
   "outputs": [
    {
     "name": "stdout",
     "output_type": "stream",
     "text": [
      "\n",
      "Movie :  Sesame Street: Elmo Saves Christmas\n",
      "\n",
      "It has 344 Ratings from users.\n",
      "\n",
      "We have 17280 movies which are simila rto this  and we will get only top\n"
     ]
    }
   ],
   "source": [
    "mv_id = 1023\n",
    "\n",
    "print(\"\\nMovie : \",movie_titles.loc[mv_id].values[1])\n",
    "\n",
    "print(\"\\nIt has {} Ratings from users.\".format(train_sparse_matrix[:,mv_id].getnnz()))\n",
    "\n",
    "print(\"\\nWe have {} movies which are simila rto this  and we will get only top\".format(mov_mov[:,mv_id].getnnz()))"
   ]
  },
  {
   "cell_type": "code",
   "execution_count": null,
   "metadata": {
    "colab": {},
    "colab_type": "code",
    "id": "ALnIIZfXd7aw",
    "outputId": "bb0ab4a9-574c-4619-c563-13eb64c04211"
   },
   "outputs": [
    {
     "data": {
      "text/html": [
       "<div>\n",
       "<style scoped>\n",
       "    .dataframe tbody tr th:only-of-type {\n",
       "        vertical-align: middle;\n",
       "    }\n",
       "\n",
       "    .dataframe tbody tr th {\n",
       "        vertical-align: top;\n",
       "    }\n",
       "\n",
       "    .dataframe thead th {\n",
       "        text-align: right;\n",
       "    }\n",
       "</style>\n",
       "<table border=\"1\" class=\"dataframe\">\n",
       "  <thead>\n",
       "    <tr style=\"text-align: right;\">\n",
       "      <th></th>\n",
       "      <th>year_of_release</th>\n",
       "      <th>title</th>\n",
       "    </tr>\n",
       "    <tr>\n",
       "      <th>movie_id</th>\n",
       "      <th></th>\n",
       "      <th></th>\n",
       "    </tr>\n",
       "  </thead>\n",
       "  <tbody>\n",
       "    <tr>\n",
       "      <th>12426</th>\n",
       "      <td>2000.0</td>\n",
       "      <td>Cinderelmo: Sesame Street</td>\n",
       "    </tr>\n",
       "    <tr>\n",
       "      <th>6671</th>\n",
       "      <td>1998.0</td>\n",
       "      <td>Sesame Street: Elmopalooza!</td>\n",
       "    </tr>\n",
       "    <tr>\n",
       "      <th>5558</th>\n",
       "      <td>1993.0</td>\n",
       "      <td>Sesame Street's 25th Birthday: A Musical Celeb...</td>\n",
       "    </tr>\n",
       "    <tr>\n",
       "      <th>1629</th>\n",
       "      <td>1997.0</td>\n",
       "      <td>Sesame Street: 1-2-3</td>\n",
       "    </tr>\n",
       "    <tr>\n",
       "      <th>10824</th>\n",
       "      <td>1995.0</td>\n",
       "      <td>Sesame Street: Do the Alphabet</td>\n",
       "    </tr>\n",
       "    <tr>\n",
       "      <th>6853</th>\n",
       "      <td>1991.0</td>\n",
       "      <td>Sesame Street: Elmo's Sing-Along Guessing Game</td>\n",
       "    </tr>\n",
       "    <tr>\n",
       "      <th>3677</th>\n",
       "      <td>2000.0</td>\n",
       "      <td>Sesame Street: Let's Make Music</td>\n",
       "    </tr>\n",
       "    <tr>\n",
       "      <th>2791</th>\n",
       "      <td>1999.0</td>\n",
       "      <td>The Adventures of Elmo in Grouchland</td>\n",
       "    </tr>\n",
       "    <tr>\n",
       "      <th>15486</th>\n",
       "      <td>2001.0</td>\n",
       "      <td>Sesame Street: Elmo's World: Wild Wild West</td>\n",
       "    </tr>\n",
       "    <tr>\n",
       "      <th>1010</th>\n",
       "      <td>2004.0</td>\n",
       "      <td>Sesame Street: Sing</td>\n",
       "    </tr>\n",
       "  </tbody>\n",
       "</table>\n",
       "</div>"
      ],
      "text/plain": [
       "          year_of_release                                              title\n",
       "movie_id                                                                    \n",
       "12426              2000.0                          Cinderelmo: Sesame Street\n",
       "6671               1998.0                        Sesame Street: Elmopalooza!\n",
       "5558               1993.0  Sesame Street's 25th Birthday: A Musical Celeb...\n",
       "1629               1997.0                               Sesame Street: 1-2-3\n",
       "10824              1995.0                     Sesame Street: Do the Alphabet\n",
       "6853               1991.0     Sesame Street: Elmo's Sing-Along Guessing Game\n",
       "3677               2000.0                    Sesame Street: Let's Make Music\n",
       "2791               1999.0               The Adventures of Elmo in Grouchland\n",
       "15486              2001.0        Sesame Street: Elmo's World: Wild Wild West\n",
       "1010               2004.0                                Sesame Street: Sing"
      ]
     },
     "execution_count": 68,
     "metadata": {
      "tags": []
     },
     "output_type": "execute_result"
    }
   ],
   "source": [
    "similarities = mov_mov[mv_id].toarray().ravel()\n",
    "similar_indices = similarities.argsort()[::-1][1:]\n",
    "movie_titles.loc[similar_indices[:10]]"
   ]
  },
  {
   "cell_type": "markdown",
   "metadata": {
    "colab_type": "text",
    "id": "6vjhW56Od7ay"
   },
   "source": [
    "**Similarily we can get similar users**"
   ]
  },
  {
   "cell_type": "markdown",
   "metadata": {
    "colab_type": "text",
    "id": "szPxTMUJd7ay"
   },
   "source": [
    "***\n",
    "\n",
    "## Machine Learning Models\n",
    "\n",
    "**Sampling data**"
   ]
  },
  {
   "cell_type": "code",
   "execution_count": null,
   "metadata": {
    "colab": {},
    "colab_type": "code",
    "id": "MXHhugR1d7ay"
   },
   "outputs": [],
   "source": [
    "def sample_data(sparse_matrix,numU,numM):\n",
    "    row_ind,col_ind,rating=sparse.find(sparse_matrix)\n",
    "    users=np.unique(row_ind)\n",
    "    movies=np.unique(col_ind)\n",
    "    \n",
    "    np.random.seed(15)\n",
    "    sample_users = np.random.choice(users, numU, replace=False)\n",
    "    sample_movies = np.random.choice(movies,numM, replace=False)\n",
    "    # get the boolean mask or these sampled_items in originl row/col_inds..\n",
    "    mask = np.logical_and( np.isin(row_ind, sample_users),np.isin(col_ind, sample_movies) )\n",
    "    \n",
    "    sample_sparse_matrix = sparse.csr_matrix((rating[mask], (row_ind[mask], col_ind[mask])),\n",
    "                                             shape=(max(sample_users)+1, max(sample_movies)+1))\n",
    "   \n",
    "    print(\"Sampled Matrix : (users, movies) -- ({} {})\".format(len(sample_users), len(sample_movies)))\n",
    "    print(\"Sampled Matrix : Ratings --\", format(rating[mask].shape[0]))\n",
    "\n",
    "    \n",
    "    # save it into disk\n",
    "    sparse.save_npz('samplesparse.npz', sample_sparse_matrix)\n",
    "    return sample_sparse_matrix"
   ]
  },
  {
   "cell_type": "code",
   "execution_count": null,
   "metadata": {
    "colab": {},
    "colab_type": "code",
    "id": "gT6-nqLEd7a2",
    "outputId": "20c21f27-33f8-4b26-8ed8-b93580387981"
   },
   "outputs": [
    {
     "name": "stdout",
     "output_type": "stream",
     "text": [
      "Sampled Matrix : (users, movies) -- (10000 1000)\n",
      "Sampled Matrix : Ratings -- 129286\n"
     ]
    }
   ],
   "source": [
    "sample_train = sample_data(train_sparse_matrix,10000,1000)"
   ]
  },
  {
   "cell_type": "code",
   "execution_count": null,
   "metadata": {
    "colab": {},
    "colab_type": "code",
    "id": "tf1d3t2vd7a4",
    "outputId": "a126b9c3-f5f9-44dc-d6a9-5dd69efeede3"
   },
   "outputs": [
    {
     "name": "stdout",
     "output_type": "stream",
     "text": [
      "Sampled Matrix : (users, movies) -- (5000 500)\n",
      "Sampled Matrix : Ratings -- 7333\n"
     ]
    }
   ],
   "source": [
    "sample_test = sample_data(test_sparse_matrix,5000,500)"
   ]
  },
  {
   "cell_type": "markdown",
   "metadata": {
    "colab_type": "text",
    "id": "gGwXGvRwd7a7"
   },
   "source": [
    "### Analysing Train Data"
   ]
  },
  {
   "cell_type": "code",
   "execution_count": null,
   "metadata": {
    "colab": {},
    "colab_type": "code",
    "id": "1wbdeSr5d7a7"
   },
   "outputs": [],
   "source": [
    "sample_train_averages={}\n",
    "global_average = sample_train.sum()/sample_train.count_nonzero()\n",
    "sample_train_averages['global'] = global_average"
   ]
  },
  {
   "cell_type": "markdown",
   "metadata": {
    "colab_type": "text",
    "id": "JLJCr_Zgd7a8"
   },
   "source": [
    "**Global Average Ratings of Movies**"
   ]
  },
  {
   "cell_type": "code",
   "execution_count": null,
   "metadata": {
    "colab": {},
    "colab_type": "code",
    "id": "8byvbaPsd7a9",
    "outputId": "b261136d-395f-4a26-9555-0d133704c1b0"
   },
   "outputs": [
    {
     "name": "stdout",
     "output_type": "stream",
     "text": [
      "Global Ratings:  3.581679377504138\n"
     ]
    }
   ],
   "source": [
    "print('Global Ratings: ',global_average)"
   ]
  },
  {
   "cell_type": "markdown",
   "metadata": {
    "colab_type": "text",
    "id": "NkMcgdXed7a_"
   },
   "source": [
    "**Average Ratings of User**"
   ]
  },
  {
   "cell_type": "code",
   "execution_count": null,
   "metadata": {
    "colab": {},
    "colab_type": "code",
    "id": "hnlJDEaKd7bA",
    "outputId": "0c6f06de-0358-40ae-b89b-468758e0409b"
   },
   "outputs": [
    {
     "name": "stdout",
     "output_type": "stream",
     "text": [
      "\n",
      " Average rating of user  0  is :  4.0\n",
      "\n",
      " Average rating of user  1  is :  3.6666666666666665\n",
      "\n",
      " Average rating of user  2  is :  4.0\n",
      "\n",
      " Average rating of user  3  is :  2.0\n",
      "\n",
      " Average rating of user  4  is :  5.0\n"
     ]
    }
   ],
   "source": [
    "sample_train_averages['user'] = get_averages(sample_train,flag=1)\n",
    "for i in range(5):\n",
    "    print('\\n Average rating of user ',i,' is : ',list(sample_train_averages['user'].values())[i])"
   ]
  },
  {
   "cell_type": "markdown",
   "metadata": {
    "colab_type": "text",
    "id": "lYg4nWXAd7bC"
   },
   "source": [
    "**Average Ratings of Movie**"
   ]
  },
  {
   "cell_type": "code",
   "execution_count": null,
   "metadata": {
    "colab": {},
    "colab_type": "code",
    "id": "ucnkwHoFd7bD",
    "outputId": "9fbb2b6c-f516-4b08-8b75-1336f38db54d"
   },
   "outputs": [
    {
     "name": "stdout",
     "output_type": "stream",
     "text": [
      "\n",
      " Average rating of movie  0  is :  4.092436974789916\n",
      "\n",
      " Average rating of movie  1  is :  2.5\n",
      "\n",
      " Average rating of movie  2  is :  5.0\n",
      "\n",
      " Average rating of movie  3  is :  3.8840579710144927\n",
      "\n",
      " Average rating of movie  4  is :  2.8\n"
     ]
    }
   ],
   "source": [
    "sample_train_averages['movie'] = get_averages(sample_train,flag=0)\n",
    "for i in range(5):\n",
    "    print('\\n Average rating of movie ',i,' is : ',list(sample_train_averages['movie'].values())[i])"
   ]
  },
  {
   "cell_type": "markdown",
   "metadata": {
    "colab_type": "text",
    "id": "vpjFh318d7bE"
   },
   "source": [
    "### Featurising Data for Regression Problem\n",
    "\n",
    "#### Train Data"
   ]
  },
  {
   "cell_type": "code",
   "execution_count": null,
   "metadata": {
    "colab": {},
    "colab_type": "code",
    "id": "5wVCoBn2d7bE"
   },
   "outputs": [],
   "source": [
    "ut, mt, rt = sparse.find(sample_train)"
   ]
  },
  {
   "cell_type": "code",
   "execution_count": null,
   "metadata": {
    "colab": {},
    "colab_type": "code",
    "id": "s0cQhe_hd7bF"
   },
   "outputs": [],
   "source": [
    "#f1 : Similar users rating of this movie : find similar users ---> for each user find rating of this movie\n",
    "#f2 : Similar movies rated by this user : find similar movies --> for each movie find ratings\n",
    "\n",
    "start=datetime.now()\n",
    "\n",
    "if os.path.isfile('featurised_data_train.csv'):\n",
    "    print('File is Present.')\n",
    "else:\n",
    "    with open('featurised_data_train.csv','w') as f :\n",
    "        #for each line\n",
    "        for u,m,r in zip(ut,mt,rt):\n",
    "            #f1 -> Find similar users\n",
    "            user_sim = cosine_similarity(sample_train[u],sample_train).ravel()\n",
    "            top_sim_users = user_sim.argsort()[::-1][1:]\n",
    "            #-> For each user find rating of this movie\n",
    "            top_ratings = sample_train[top_sim_users,m].toarray().ravel()\n",
    "            #-> Reducing to top 5\n",
    "            top_sim_users_ratings = list(top_ratings[top_ratings != 0][:5])\n",
    "            top_sim_users_ratings.extend([sample_train_averages['movie'][m]]*(5 - len(top_sim_users_ratings)))\n",
    "            \n",
    "            #f2 -> find similar movies\n",
    "            movi_sim=cosine_similarity(sample_train[m],sample_train).ravel()\n",
    "            top_sim_mov=movi_sim.argsort()[::-1][1:]\n",
    "            top_ratings=sample_train[top_sim_mov,u].toarray().ravel()\n",
    "            top_sim_mov_usr=list(top_ratings[top_ratings!=0][:5])\n",
    "            top_sim_mov_usr.extend([sample_train['user'][u]]*(5-len(top_sim_mov_usr)))\n",
    "            \n",
    "            row=[]\n",
    "            row.append(u)\n",
    "            row.append(m)\n",
    "            row.extend(top_sim_users_ratings)\n",
    "            row.extend(top_sim_mov_usr)\n",
    "            row.append(sample_train_averages['user'][u])\n",
    "            row.append(sample_train_averages['movie'][m])\n",
    "            row.append(rating)\n",
    "            \n",
    "            f.write(','.join(map(str, row)))\n",
    "            f.write('\\n')"
   ]
  },
  {
   "cell_type": "code",
   "execution_count": 6,
   "metadata": {
    "colab": {
     "base_uri": "https://localhost:8080/",
     "height": 195
    },
    "colab_type": "code",
    "id": "glFDNbghd7bH",
    "outputId": "fec7a709-819d-474b-c30e-5a01e20065be"
   },
   "outputs": [
    {
     "data": {
      "text/html": [
       "<div>\n",
       "<style scoped>\n",
       "    .dataframe tbody tr th:only-of-type {\n",
       "        vertical-align: middle;\n",
       "    }\n",
       "\n",
       "    .dataframe tbody tr th {\n",
       "        vertical-align: top;\n",
       "    }\n",
       "\n",
       "    .dataframe thead th {\n",
       "        text-align: right;\n",
       "    }\n",
       "</style>\n",
       "<table border=\"1\" class=\"dataframe\">\n",
       "  <thead>\n",
       "    <tr style=\"text-align: right;\">\n",
       "      <th></th>\n",
       "      <th>user</th>\n",
       "      <th>movie</th>\n",
       "      <th>GAvg</th>\n",
       "      <th>sur1</th>\n",
       "      <th>sur2</th>\n",
       "      <th>sur3</th>\n",
       "      <th>sur4</th>\n",
       "      <th>sur5</th>\n",
       "      <th>smr1</th>\n",
       "      <th>smr2</th>\n",
       "      <th>smr3</th>\n",
       "      <th>smr4</th>\n",
       "      <th>smr5</th>\n",
       "      <th>UAvg</th>\n",
       "      <th>MAvg</th>\n",
       "      <th>rating</th>\n",
       "    </tr>\n",
       "  </thead>\n",
       "  <tbody>\n",
       "    <tr>\n",
       "      <th>0</th>\n",
       "      <td>53406</td>\n",
       "      <td>33</td>\n",
       "      <td>3.581679</td>\n",
       "      <td>4.0</td>\n",
       "      <td>5.0</td>\n",
       "      <td>5.0</td>\n",
       "      <td>4.0</td>\n",
       "      <td>1.0</td>\n",
       "      <td>5.0</td>\n",
       "      <td>2.0</td>\n",
       "      <td>5.0</td>\n",
       "      <td>3.0</td>\n",
       "      <td>1.0</td>\n",
       "      <td>3.370370</td>\n",
       "      <td>4.092437</td>\n",
       "      <td>4</td>\n",
       "    </tr>\n",
       "    <tr>\n",
       "      <th>1</th>\n",
       "      <td>99540</td>\n",
       "      <td>33</td>\n",
       "      <td>3.581679</td>\n",
       "      <td>5.0</td>\n",
       "      <td>5.0</td>\n",
       "      <td>5.0</td>\n",
       "      <td>4.0</td>\n",
       "      <td>5.0</td>\n",
       "      <td>3.0</td>\n",
       "      <td>4.0</td>\n",
       "      <td>4.0</td>\n",
       "      <td>3.0</td>\n",
       "      <td>5.0</td>\n",
       "      <td>3.555556</td>\n",
       "      <td>4.092437</td>\n",
       "      <td>3</td>\n",
       "    </tr>\n",
       "    <tr>\n",
       "      <th>2</th>\n",
       "      <td>99865</td>\n",
       "      <td>33</td>\n",
       "      <td>3.581679</td>\n",
       "      <td>5.0</td>\n",
       "      <td>5.0</td>\n",
       "      <td>4.0</td>\n",
       "      <td>5.0</td>\n",
       "      <td>3.0</td>\n",
       "      <td>5.0</td>\n",
       "      <td>4.0</td>\n",
       "      <td>4.0</td>\n",
       "      <td>5.0</td>\n",
       "      <td>4.0</td>\n",
       "      <td>3.714286</td>\n",
       "      <td>4.092437</td>\n",
       "      <td>5</td>\n",
       "    </tr>\n",
       "    <tr>\n",
       "      <th>3</th>\n",
       "      <td>101620</td>\n",
       "      <td>33</td>\n",
       "      <td>3.581679</td>\n",
       "      <td>2.0</td>\n",
       "      <td>3.0</td>\n",
       "      <td>5.0</td>\n",
       "      <td>5.0</td>\n",
       "      <td>4.0</td>\n",
       "      <td>4.0</td>\n",
       "      <td>3.0</td>\n",
       "      <td>3.0</td>\n",
       "      <td>4.0</td>\n",
       "      <td>5.0</td>\n",
       "      <td>3.584416</td>\n",
       "      <td>4.092437</td>\n",
       "      <td>5</td>\n",
       "    </tr>\n",
       "    <tr>\n",
       "      <th>4</th>\n",
       "      <td>112974</td>\n",
       "      <td>33</td>\n",
       "      <td>3.581679</td>\n",
       "      <td>5.0</td>\n",
       "      <td>5.0</td>\n",
       "      <td>5.0</td>\n",
       "      <td>5.0</td>\n",
       "      <td>5.0</td>\n",
       "      <td>3.0</td>\n",
       "      <td>5.0</td>\n",
       "      <td>5.0</td>\n",
       "      <td>5.0</td>\n",
       "      <td>3.0</td>\n",
       "      <td>3.750000</td>\n",
       "      <td>4.092437</td>\n",
       "      <td>5</td>\n",
       "    </tr>\n",
       "  </tbody>\n",
       "</table>\n",
       "</div>"
      ],
      "text/plain": [
       "     user  movie      GAvg  sur1  sur2  ...  smr4  smr5      UAvg      MAvg  rating\n",
       "0   53406     33  3.581679   4.0   5.0  ...   3.0   1.0  3.370370  4.092437       4\n",
       "1   99540     33  3.581679   5.0   5.0  ...   3.0   5.0  3.555556  4.092437       3\n",
       "2   99865     33  3.581679   5.0   5.0  ...   5.0   4.0  3.714286  4.092437       5\n",
       "3  101620     33  3.581679   2.0   3.0  ...   4.0   5.0  3.584416  4.092437       5\n",
       "4  112974     33  3.581679   5.0   5.0  ...   5.0   3.0  3.750000  4.092437       5\n",
       "\n",
       "[5 rows x 16 columns]"
      ]
     },
     "execution_count": 6,
     "metadata": {
      "tags": []
     },
     "output_type": "execute_result"
    }
   ],
   "source": [
    "f_train = pd.read_csv('featurised_data_train.csv', names = ['user', 'movie', 'GAvg', 'sur1', 'sur2', 'sur3', 'sur4', 'sur5','smr1', 'smr2', 'smr3', 'smr4', 'smr5', 'UAvg', 'MAvg', 'rating'], header=None)\n",
    "f_train.head()"
   ]
  },
  {
   "cell_type": "markdown",
   "metadata": {
    "colab_type": "text",
    "id": "5izo8nLdd7bI"
   },
   "source": [
    "### Features\n",
    "- GAvg : Average rating of all the ratings\n",
    "- Similar users rating of this movie:\n",
    "    - sur1, sur2, sur3, sur4, sur5 ( top 5 similar users who rated that movie)\n",
    "- Similar movies rated by this user:\n",
    "     - smr1, smr2, smr3, smr4, smr5 ( top 5 similar movies rated by this user)\n",
    "- UAvg : User's Average rating\n",
    "- MAvg : Average rating of this movie\n",
    "- rating : Rating of this movie by this user.\n"
   ]
  },
  {
   "cell_type": "markdown",
   "metadata": {
    "colab_type": "text",
    "id": "rMfzZ2S_d7bI"
   },
   "source": [
    "#### Featurising Test Data"
   ]
  },
  {
   "cell_type": "code",
   "execution_count": null,
   "metadata": {
    "colab": {},
    "colab_type": "code",
    "id": "e7j8srqod7bJ"
   },
   "outputs": [],
   "source": [
    "ut, mt, rt = sparse.find(sample_test)"
   ]
  },
  {
   "cell_type": "code",
   "execution_count": null,
   "metadata": {
    "colab": {},
    "colab_type": "code",
    "id": "aVv89osLd7bK"
   },
   "outputs": [],
   "source": [
    "#f1 : Similar users rating of this movie : find similar users ---> for each user find rating of this movie\n",
    "#f2 : Similar movies rated by this user : find similar movies --> for each movie find ratings\n",
    "\n",
    "start=datetime.now()\n",
    "\n",
    "if os.path.isfile('featurised_data_test.csv'):\n",
    "    print('File is Present.')\n",
    "else:\n",
    "    with open('featurised_data_test','w') as f :\n",
    "        #for each line\n",
    "        for u,m,r in zip(ut,mt,rt):\n",
    "            try:\n",
    "            #f1 -> Find similar users\n",
    "                user_sim = cosine_similarity(sample_train[u],sample_train).ravel()\n",
    "                top_sim_users = user_sim.argsort()[::-1][1:]\n",
    "                top_ratings = sample_train[top_sim_users,m].toarray().ravel()\n",
    "                top_sim_users_ratings = list(top_ratings[top_ratings != 0][:5])\n",
    "                top_sim_users_ratings.extend([sample_train_averages['movie'][m]]*(5 - len(top_sim_users_ratings)))\n",
    "            #New Movie/User\n",
    "            except(KeyError,IndexError):\n",
    "                top_sim_users_ratings.extend([sample_train_averages['global']]*(5 - len(top_sim_users_ratings)))\n",
    "            \n",
    "                \n",
    "            \n",
    "            #f2 -> find similar movies\n",
    "            try:\n",
    "                movi_sim=cosine_similarity(sample_train[m],sample_train).ravel()\n",
    "                top_sim_mov=movi_sim.argsort()[::-1][1:]\n",
    "                top_ratings=sample_train[top_sim_mov,u].toarray().ravel()\n",
    "                top_sim_mov_usr=list(top_ratings[top_ratings!=0][:5])\n",
    "                top_sim_mov_usr.extend([sample_train['user'][u]]*(5-len(top_sim_mov_usr)))\n",
    "            except(KeyError,IndexError):\n",
    "                top_sim_mov_usr.extend([sample_train_averages['global']]*(5 - len(top_sim_mov_usr)))\n",
    "                \n",
    "            \n",
    "            row=[]\n",
    "            row.append(u)\n",
    "            row.append(m)\n",
    "            row.extend(top_sim_users_ratings)\n",
    "            row.extend(top_sim_mov_usr)\n",
    "            row.append(sample_train_averages['user'][u])\n",
    "            row.append(sample_train_averages['movie'][m])\n",
    "            row.append(rating)\n",
    "            \n",
    "            f.write(','.join(map(str, row)))\n",
    "            f.write('\\n')"
   ]
  },
  {
   "cell_type": "code",
   "execution_count": 7,
   "metadata": {
    "colab": {
     "base_uri": "https://localhost:8080/",
     "height": 195
    },
    "colab_type": "code",
    "id": "MHk0yU-Sd7bL",
    "outputId": "e87be35c-b8fc-44ec-a153-42fddfb6c523"
   },
   "outputs": [
    {
     "data": {
      "text/html": [
       "<div>\n",
       "<style scoped>\n",
       "    .dataframe tbody tr th:only-of-type {\n",
       "        vertical-align: middle;\n",
       "    }\n",
       "\n",
       "    .dataframe tbody tr th {\n",
       "        vertical-align: top;\n",
       "    }\n",
       "\n",
       "    .dataframe thead th {\n",
       "        text-align: right;\n",
       "    }\n",
       "</style>\n",
       "<table border=\"1\" class=\"dataframe\">\n",
       "  <thead>\n",
       "    <tr style=\"text-align: right;\">\n",
       "      <th></th>\n",
       "      <th>user</th>\n",
       "      <th>movie</th>\n",
       "      <th>GAvg</th>\n",
       "      <th>sur1</th>\n",
       "      <th>sur2</th>\n",
       "      <th>sur3</th>\n",
       "      <th>sur4</th>\n",
       "      <th>sur5</th>\n",
       "      <th>smr1</th>\n",
       "      <th>smr2</th>\n",
       "      <th>smr3</th>\n",
       "      <th>smr4</th>\n",
       "      <th>smr5</th>\n",
       "      <th>UAvg</th>\n",
       "      <th>MAvg</th>\n",
       "      <th>rating</th>\n",
       "    </tr>\n",
       "  </thead>\n",
       "  <tbody>\n",
       "    <tr>\n",
       "      <th>0</th>\n",
       "      <td>808635</td>\n",
       "      <td>71</td>\n",
       "      <td>3.581679</td>\n",
       "      <td>3.581679</td>\n",
       "      <td>3.581679</td>\n",
       "      <td>3.581679</td>\n",
       "      <td>3.581679</td>\n",
       "      <td>3.581679</td>\n",
       "      <td>3.581679</td>\n",
       "      <td>3.581679</td>\n",
       "      <td>3.581679</td>\n",
       "      <td>3.581679</td>\n",
       "      <td>3.581679</td>\n",
       "      <td>3.581679</td>\n",
       "      <td>3.581679</td>\n",
       "      <td>5</td>\n",
       "    </tr>\n",
       "    <tr>\n",
       "      <th>1</th>\n",
       "      <td>941866</td>\n",
       "      <td>71</td>\n",
       "      <td>3.581679</td>\n",
       "      <td>3.581679</td>\n",
       "      <td>3.581679</td>\n",
       "      <td>3.581679</td>\n",
       "      <td>3.581679</td>\n",
       "      <td>3.581679</td>\n",
       "      <td>3.581679</td>\n",
       "      <td>3.581679</td>\n",
       "      <td>3.581679</td>\n",
       "      <td>3.581679</td>\n",
       "      <td>3.581679</td>\n",
       "      <td>3.581679</td>\n",
       "      <td>3.581679</td>\n",
       "      <td>4</td>\n",
       "    </tr>\n",
       "    <tr>\n",
       "      <th>2</th>\n",
       "      <td>1737912</td>\n",
       "      <td>71</td>\n",
       "      <td>3.581679</td>\n",
       "      <td>3.581679</td>\n",
       "      <td>3.581679</td>\n",
       "      <td>3.581679</td>\n",
       "      <td>3.581679</td>\n",
       "      <td>3.581679</td>\n",
       "      <td>3.581679</td>\n",
       "      <td>3.581679</td>\n",
       "      <td>3.581679</td>\n",
       "      <td>3.581679</td>\n",
       "      <td>3.581679</td>\n",
       "      <td>3.581679</td>\n",
       "      <td>3.581679</td>\n",
       "      <td>3</td>\n",
       "    </tr>\n",
       "    <tr>\n",
       "      <th>3</th>\n",
       "      <td>1849204</td>\n",
       "      <td>71</td>\n",
       "      <td>3.581679</td>\n",
       "      <td>3.581679</td>\n",
       "      <td>3.581679</td>\n",
       "      <td>3.581679</td>\n",
       "      <td>3.581679</td>\n",
       "      <td>3.581679</td>\n",
       "      <td>3.581679</td>\n",
       "      <td>3.581679</td>\n",
       "      <td>3.581679</td>\n",
       "      <td>3.581679</td>\n",
       "      <td>3.581679</td>\n",
       "      <td>3.581679</td>\n",
       "      <td>3.581679</td>\n",
       "      <td>4</td>\n",
       "    </tr>\n",
       "    <tr>\n",
       "      <th>4</th>\n",
       "      <td>28572</td>\n",
       "      <td>111</td>\n",
       "      <td>3.581679</td>\n",
       "      <td>3.581679</td>\n",
       "      <td>3.581679</td>\n",
       "      <td>3.581679</td>\n",
       "      <td>3.581679</td>\n",
       "      <td>3.581679</td>\n",
       "      <td>3.581679</td>\n",
       "      <td>3.581679</td>\n",
       "      <td>3.581679</td>\n",
       "      <td>3.581679</td>\n",
       "      <td>3.581679</td>\n",
       "      <td>3.581679</td>\n",
       "      <td>3.581679</td>\n",
       "      <td>1</td>\n",
       "    </tr>\n",
       "  </tbody>\n",
       "</table>\n",
       "</div>"
      ],
      "text/plain": [
       "      user  movie      GAvg      sur1  ...      smr5      UAvg      MAvg  rating\n",
       "0   808635     71  3.581679  3.581679  ...  3.581679  3.581679  3.581679       5\n",
       "1   941866     71  3.581679  3.581679  ...  3.581679  3.581679  3.581679       4\n",
       "2  1737912     71  3.581679  3.581679  ...  3.581679  3.581679  3.581679       3\n",
       "3  1849204     71  3.581679  3.581679  ...  3.581679  3.581679  3.581679       4\n",
       "4    28572    111  3.581679  3.581679  ...  3.581679  3.581679  3.581679       1\n",
       "\n",
       "[5 rows x 16 columns]"
      ]
     },
     "execution_count": 7,
     "metadata": {
      "tags": []
     },
     "output_type": "execute_result"
    }
   ],
   "source": [
    "f_test = pd.read_csv('featurised_data_test.csv', names = ['user', 'movie', 'GAvg', 'sur1', 'sur2', 'sur3', 'sur4', 'sur5',\n",
    "                                                          'smr1', 'smr2', 'smr3', 'smr4', 'smr5',\n",
    "                                                          'UAvg', 'MAvg', 'rating'], header=None)\n",
    "f_test.head()"
   ]
  },
  {
   "cell_type": "markdown",
   "metadata": {
    "colab_type": "text",
    "id": "8G1QoEG8d7bM"
   },
   "source": [
    "### Getting Data Ready for Surprise Models"
   ]
  },
  {
   "cell_type": "code",
   "execution_count": 3,
   "metadata": {
    "colab": {
     "base_uri": "https://localhost:8080/",
     "height": 121
    },
    "colab_type": "code",
    "id": "hOokSLhyd7bM",
    "outputId": "da8d9055-6c17-4056-db00-62c726d783be"
   },
   "outputs": [
    {
     "name": "stdout",
     "output_type": "stream",
     "text": [
      "Go to this URL in a browser: https://accounts.google.com/o/oauth2/auth?client_id=947318989803-6bn6qk8qdgf4n4g3pfee6491hc0brc4i.apps.googleusercontent.com&redirect_uri=urn%3Aietf%3Awg%3Aoauth%3A2.0%3Aoob&scope=email%20https%3A%2F%2Fwww.googleapis.com%2Fauth%2Fdocs.test%20https%3A%2F%2Fwww.googleapis.com%2Fauth%2Fdrive%20https%3A%2F%2Fwww.googleapis.com%2Fauth%2Fdrive.photos.readonly%20https%3A%2F%2Fwww.googleapis.com%2Fauth%2Fpeopleapi.readonly&response_type=code\n",
      "\n",
      "Enter your authorization code:\n",
      "··········\n",
      "Mounted at /content/gdrive\n"
     ]
    }
   ],
   "source": [
    "from google.colab import drive\n",
    "drive.mount('/content/gdrive')\n",
    "os.chdir('gdrive/My Drive/')"
   ]
  },
  {
   "cell_type": "code",
   "execution_count": null,
   "metadata": {
    "colab": {},
    "colab_type": "code",
    "id": "BVplfsKZeucR"
   },
   "outputs": [],
   "source": [
    "!pip install surprise"
   ]
  },
  {
   "cell_type": "code",
   "execution_count": null,
   "metadata": {
    "colab": {},
    "colab_type": "code",
    "id": "ehs0rolrfqJu"
   },
   "outputs": [],
   "source": [
    "from surprise import Reader, Dataset"
   ]
  },
  {
   "cell_type": "code",
   "execution_count": null,
   "metadata": {
    "colab": {},
    "colab_type": "code",
    "id": "RpBd2M9rfO3v"
   },
   "outputs": [],
   "source": [
    "reader = Reader(rating_scale=(1,5))\n",
    "train_data = Dataset.load_from_df(f_train[['user', 'movie', 'rating']], reader)\n",
    "trainset = train_data.build_full_trainset() "
   ]
  },
  {
   "cell_type": "code",
   "execution_count": null,
   "metadata": {
    "colab": {},
    "colab_type": "code",
    "id": "CruTteLbflNd"
   },
   "outputs": [],
   "source": [
    "testset = list(zip(f_test.user.values,f_test.movie.values,f_test.rating.values))"
   ]
  },
  {
   "cell_type": "markdown",
   "metadata": {
    "colab_type": "text",
    "id": "pN8nCFvdgm1p"
   },
   "source": [
    "### Helper Functions for Models\n",
    "#### Xgboost"
   ]
  },
  {
   "cell_type": "code",
   "execution_count": null,
   "metadata": {
    "colab": {},
    "colab_type": "code",
    "id": "KLAjVNqcf4RT"
   },
   "outputs": [],
   "source": [
    "def error_metrics(true,pred):\n",
    "    rmse = np.sqrt(np.mean([ (true[i] - pred[i])**2 for i in range(len(pred)) ]))\n",
    "    mape = np.mean(np.abs( (true-pred)/true ))*100\n",
    "    return rmse, mape"
   ]
  },
  {
   "cell_type": "code",
   "execution_count": null,
   "metadata": {
    "colab": {},
    "colab_type": "code",
    "id": "Ko2_B7OmhIRx"
   },
   "outputs": [],
   "source": [
    "def run_xgboost(algo,xtrain,ytrain,xtest,ytest):\n",
    "  train_r,test_r={},{}\n",
    "  \n",
    "  algo.fit(x_train, y_train, eval_metric = 'rmse')\n",
    "  y_train_pred = algo.predict(x_train)\n",
    "  rmse_train, mape_train =error_metrics(y_train.values, y_train_pred)\n",
    "  train_r = {'rmse': rmse_train,'mape' : mape_train,'predictions' : y_train_pred}\n",
    "  \n",
    "  y_test_pred = algo.predict(x_test)\n",
    "  rmse_test, mape_test =error_metrics(y_test.values, y_test_pred)\n",
    "  test_r = {'rmse': rmse_test,'mape' : mape_test,'predictions' : y_test_pred}\n",
    "  print('\\n\\n Train --- rmse :{}  mape :{} \\n Test --- rmse  :{} mape:{} '.format(rmse_train,mape_train,rmse_test,mape_test))\n",
    "  return train_r,test_r\n",
    "  \n",
    "                    "
   ]
  },
  {
   "cell_type": "markdown",
   "metadata": {
    "colab_type": "text",
    "id": "0NuIeLOHihMw"
   },
   "source": [
    "#### Surprise models"
   ]
  },
  {
   "cell_type": "code",
   "execution_count": null,
   "metadata": {
    "colab": {},
    "colab_type": "code",
    "id": "6XVziubTidx6"
   },
   "outputs": [],
   "source": [
    "my_seed = 15\n",
    "random.seed(my_seed)\n",
    "np.random.seed(my_seed)\n",
    "\n",
    "def get_ratings(predictions):\n",
    "    actual = np.array([pred.r_ui for pred in predictions])\n",
    "    pred = np.array([pred.est for pred in predictions])\n",
    "    \n",
    "    return actual, pred"
   ]
  },
  {
   "cell_type": "code",
   "execution_count": null,
   "metadata": {
    "colab": {},
    "colab_type": "code",
    "id": "HkWbiQOGiqb2"
   },
   "outputs": [],
   "source": [
    "def get_errors(predictions):\n",
    "\n",
    "    actual, pred = get_ratings(predictions)\n",
    "    rmse = np.sqrt(np.mean((pred - actual)**2))\n",
    "    mape = np.mean(np.abs(pred - actual)/actual)\n",
    "\n",
    "    return rmse, mape*100"
   ]
  },
  {
   "cell_type": "code",
   "execution_count": null,
   "metadata": {
    "colab": {},
    "colab_type": "code",
    "id": "cpkFDKemi9xP"
   },
   "outputs": [],
   "source": [
    "def run_surprise(algo, trainset, testset, verbose=True): \n",
    "    train,test={},{}\n",
    "    \n",
    "    algo.fit(trainset)\n",
    "    train_preds = algo.test(trainset.build_testset())\n",
    "    train_actual_ratings, train_pred_ratings = get_ratings(train_preds)\n",
    "    train_rmse, train_mape = get_errors(train_preds)\n",
    "    train['rmse'] = train_rmse\n",
    "    train['mape'] = train_mape\n",
    "    train['predictions'] = train_pred_ratings\n",
    "    \n",
    "\n",
    "    test_preds = algo.test(testset)\n",
    "    test_actual_ratings, test_pred_ratings = get_ratings(test_preds)\n",
    "    test_rmse, test_mape = get_errors(test_preds)\n",
    "    test['rmse'] = test_rmse\n",
    "    test['mape'] = test_mape\n",
    "    test['predictions'] = test_pred_ratings\n",
    "    print('\\n\\n Train --- rmse :{}  mape :{} \\n Test --- rmse  :{} mape:{} '.format(train['rmse'],train['mape'],test['rmse'],test['mape']))\n",
    "    return train, test"
   ]
  },
  {
   "cell_type": "markdown",
   "metadata": {
    "colab_type": "text",
    "id": "w_0Z-8UDj3Xt"
   },
   "source": [
    "### XGBoost with 13Features"
   ]
  },
  {
   "cell_type": "code",
   "execution_count": null,
   "metadata": {
    "colab": {},
    "colab_type": "code",
    "id": "LuCuXmtQk0-z"
   },
   "outputs": [],
   "source": [
    "\n",
    "import xgboost as xgb"
   ]
  },
  {
   "cell_type": "code",
   "execution_count": null,
   "metadata": {
    "colab": {},
    "colab_type": "code",
    "id": "7BtyTd1NkVeF"
   },
   "outputs": [],
   "source": [
    "models_eval_train, models_eval_test={},{}"
   ]
  },
  {
   "cell_type": "code",
   "execution_count": 35,
   "metadata": {
    "colab": {
     "base_uri": "https://localhost:8080/",
     "height": 430
    },
    "colab_type": "code",
    "id": "M9IXvhQTjyeK",
    "outputId": "199bc23a-fa1e-4763-cba2-994b7872bf76"
   },
   "outputs": [
    {
     "name": "stderr",
     "output_type": "stream",
     "text": [
      "/usr/local/lib/python3.6/dist-packages/xgboost/core.py:587: FutureWarning: Series.base is deprecated and will be removed in a future version\n",
      "  if getattr(data, 'base', None) is not None and \\\n",
      "/usr/local/lib/python3.6/dist-packages/xgboost/core.py:588: FutureWarning: Series.base is deprecated and will be removed in a future version\n",
      "  data.base is not None and isinstance(data, np.ndarray) \\\n"
     ]
    },
    {
     "name": "stdout",
     "output_type": "stream",
     "text": [
      "\n",
      "\n",
      " Train --- rmse :0.8462861583923632  mape :25.260434292491528 \n",
      " Test --- rmse  :1.076373581778953 mape:34.48223172520999 \n"
     ]
    },
    {
     "data": {
      "image/png": "[encoded data removed]",
      "text/plain": [
       "<Figure size 432x288 with 1 Axes>"
      ]
     },
     "metadata": {
      "tags": []
     },
     "output_type": "display_data"
    }
   ],
   "source": [
    "x_train = f_train.drop(['user','movie','rating'], axis=1)\n",
    "y_train = f_train['rating']\n",
    "\n",
    "x_test = f_test.drop(['user','movie','rating'], axis=1)\n",
    "y_test = f_test['rating']\n",
    "\n",
    "\n",
    "first_xgb = xgb.XGBRegressor(silent=True, n_jobs=13, random_state=15, n_estimators=100)\n",
    "train_results, test_results = run_xgboost(first_xgb, x_train, y_train, x_test, y_test)\n",
    "\n",
    "models_eval_train['xgb1'] = train_results\n",
    "models_eval_test['xgb1'] = test_results\n",
    "\n",
    "xgb.plot_importance(first_xgb)\n",
    "plt.show()"
   ]
  },
  {
   "cell_type": "markdown",
   "metadata": {
    "colab_type": "text",
    "id": "O9C0srV6ntiA"
   },
   "source": [
    "### Surprise Baseline Model"
   ]
  },
  {
   "cell_type": "code",
   "execution_count": null,
   "metadata": {
    "colab": {},
    "colab_type": "code",
    "id": "9QUJ8ObTkyYs"
   },
   "outputs": [],
   "source": [
    "from surprise import BaselineOnly"
   ]
  },
  {
   "cell_type": "code",
   "execution_count": 40,
   "metadata": {
    "colab": {
     "base_uri": "https://localhost:8080/",
     "height": 101
    },
    "colab_type": "code",
    "id": "A8SYSIzym6Yl",
    "outputId": "1cf77c60-9a96-4e79-cfe7-708d542a5004"
   },
   "outputs": [
    {
     "name": "stdout",
     "output_type": "stream",
     "text": [
      "Estimating biases using sgd...\n",
      "\n",
      "\n",
      " Train --- rmse :0.9347153928678286  mape :29.389572652358183 \n",
      " Test --- rmse  :1.0730330260516174 mape:35.04995544572911 \n"
     ]
    }
   ],
   "source": [
    "b_o = {'method': 'sgd','learning_rate': .001}\n",
    "bsl_algo = BaselineOnly(bsl_options=b_o)\n",
    "\n",
    "bsl_train_results, bsl_test_results = run_surprise(bsl_algo, trainset, testset, verbose=True)\n",
    "models_eval_train['bsl_algo'] = bsl_train_results \n",
    "models_eval_test['bsl_algo'] = bsl_test_results"
   ]
  },
  {
   "cell_type": "markdown",
   "metadata": {
    "colab_type": "text",
    "id": "JRFgUra4nvtE"
   },
   "source": [
    "### XgBoost 13feats + Baseline Predictions"
   ]
  },
  {
   "cell_type": "code",
   "execution_count": null,
   "metadata": {
    "colab": {},
    "colab_type": "code",
    "id": "2ApDUlpVnJ6s"
   },
   "outputs": [],
   "source": [
    "f_train['bslpr'] = models_eval_train['bsl_algo']['predictions']\n",
    "f_test['bslpr']=models_eval_test['bsl_algo']['predictions']"
   ]
  },
  {
   "cell_type": "code",
   "execution_count": 43,
   "metadata": {
    "colab": {
     "base_uri": "https://localhost:8080/",
     "height": 446
    },
    "colab_type": "code",
    "id": "L6_yjkqMoKza",
    "outputId": "93bad371-a875-433b-d557-02f1fc67e1a8"
   },
   "outputs": [
    {
     "name": "stderr",
     "output_type": "stream",
     "text": [
      "/usr/local/lib/python3.6/dist-packages/xgboost/core.py:587: FutureWarning: Series.base is deprecated and will be removed in a future version\n",
      "  if getattr(data, 'base', None) is not None and \\\n",
      "/usr/local/lib/python3.6/dist-packages/xgboost/core.py:588: FutureWarning: Series.base is deprecated and will be removed in a future version\n",
      "  data.base is not None and isinstance(data, np.ndarray) \\\n"
     ]
    },
    {
     "name": "stdout",
     "output_type": "stream",
     "text": [
      "[03:46:50] WARNING: /workspace/src/objective/regression_obj.cu:152: reg:linear is now deprecated in favor of reg:squarederror.\n",
      "\n",
      "\n",
      " Train --- rmse :0.8462748657913641  mape :25.260044089775825 \n",
      " Test --- rmse  :1.0765603714651855 mape:34.4648051883444 \n"
     ]
    },
    {
     "data": {
      "image/png": "[encoded data removed]",
      "text/plain": [
       "<Figure size 432x288 with 1 Axes>"
      ]
     },
     "metadata": {
      "tags": []
     },
     "output_type": "display_data"
    }
   ],
   "source": [
    "x_train = f_train.drop(['user', 'movie','rating'], axis=1)\n",
    "y_train = f_train['rating']\n",
    "\n",
    "x_test = f_test.drop(['user','movie','rating'], axis=1)\n",
    "y_test = f_test['rating']\n",
    "\n",
    "\n",
    "xgb_bsl = xgb.XGBRegressor(silent=False, n_jobs=13, random_state=15, n_estimators=100)\n",
    "train_results, test_results = run_xgboost(xgb_bsl, x_train, y_train, x_test, y_test)\n",
    "\n",
    "\n",
    "models_eval_train['xgb_bsl'] = train_results\n",
    "models_eval_test['xgb_bsl'] = test_results\n",
    "\n",
    "xgb.plot_importance(xgb_bsl)\n",
    "plt.show()"
   ]
  },
  {
   "cell_type": "markdown",
   "metadata": {
    "colab_type": "text",
    "id": "eUWQ-PG6ox-S"
   },
   "source": [
    "### Surprise KNNBaseline predictor"
   ]
  },
  {
   "cell_type": "code",
   "execution_count": null,
   "metadata": {
    "colab": {},
    "colab_type": "code",
    "id": "tmRhCqwNogGL"
   },
   "outputs": [],
   "source": [
    "from surprise import KNNBaseline"
   ]
  },
  {
   "cell_type": "code",
   "execution_count": 45,
   "metadata": {
    "colab": {
     "base_uri": "https://localhost:8080/",
     "height": 134
    },
    "colab_type": "code",
    "id": "jjnW1CvWo2V7",
    "outputId": "480aa1a4-7a16-4659-e9a6-c0bd0ab76e1d"
   },
   "outputs": [
    {
     "name": "stdout",
     "output_type": "stream",
     "text": [
      "Estimating biases using sgd...\n",
      "Computing the pearson_baseline similarity matrix...\n",
      "Done computing similarity matrix.\n",
      "\n",
      "\n",
      " Train --- rmse :0.33642097416508826  mape :9.145093375416348 \n",
      " Test --- rmse  :1.0726493739667242 mape:35.02094499698424 \n"
     ]
    }
   ],
   "source": [
    "so = {'user_based' : True,'name': 'pearson_baseline','shrinkage': 100,'min_support': 2} \n",
    "\n",
    "bo = {'method': 'sgd'} \n",
    "\n",
    "knn_bsl_u = KNNBaseline(k=40, sim_options = so, bsl_options = bo)\n",
    "knn_bsl_u_train_results, knn_bsl_u_test_results = run_surprise(knn_bsl_u, trainset, testset)\n",
    "\n",
    "\n",
    "models_eval_train['knn_bsl_u'] = knn_bsl_u_train_results \n",
    "models_eval_test['knn_bsl_u'] = knn_bsl_u_test_results"
   ]
  },
  {
   "cell_type": "markdown",
   "metadata": {
    "colab_type": "text",
    "id": "IrnbPJvap3aO"
   },
   "source": [
    "### Surprise KNNBaseline with movie movie similarities"
   ]
  },
  {
   "cell_type": "code",
   "execution_count": 46,
   "metadata": {
    "colab": {
     "base_uri": "https://localhost:8080/",
     "height": 134
    },
    "colab_type": "code",
    "id": "ZQuMyCZQpOr7",
    "outputId": "82e1d69a-de1e-47af-f25f-a178a0589331"
   },
   "outputs": [
    {
     "name": "stdout",
     "output_type": "stream",
     "text": [
      "Estimating biases using sgd...\n",
      "Computing the pearson_baseline similarity matrix...\n",
      "Done computing similarity matrix.\n",
      "\n",
      "\n",
      " Train --- rmse :0.32584796251610554  mape :8.447062581998374 \n",
      " Test --- rmse  :1.072758832653683 mape:35.02269653015042 \n"
     ]
    }
   ],
   "source": [
    "so = {'user_based' : False,'name': 'pearson_baseline','shrinkage': 100,'min_support': 2}\n",
    "bo = {'method': 'sgd'}\n",
    "\n",
    "\n",
    "knn_bsl_m = KNNBaseline(k=40, sim_options = so, bsl_options = bo)\n",
    "\n",
    "knn_bsl_m_train_results, knn_bsl_m_test_results = run_surprise(knn_bsl_m, trainset, testset, verbose=True)\n",
    "\n",
    "models_eval_train['knn_bsl_m'] = knn_bsl_m_train_results \n",
    "models_eval_test['knn_bsl_m'] = knn_bsl_m_test_results\n"
   ]
  },
  {
   "cell_type": "markdown",
   "metadata": {
    "colab_type": "text",
    "id": "FlVFWwOpqZEm"
   },
   "source": [
    "### XGBoost with 13feats + Baseline + KNNBaseline\n",
    "#### Xgboost + Both KNNs"
   ]
  },
  {
   "cell_type": "code",
   "execution_count": null,
   "metadata": {
    "colab": {},
    "colab_type": "code",
    "id": "10Wd6WDBp_Gx"
   },
   "outputs": [],
   "source": [
    "f_train['knn_bsl_u'] = models_eval_train['knn_bsl_u']['predictions']\n",
    "f_train['knn_bsl_m'] = models_eval_train['knn_bsl_m']['predictions']\n",
    "f_test['knn_bsl_u'] = models_eval_test['knn_bsl_u']['predictions']\n",
    "f_test['knn_bsl_m'] = models_eval_test['knn_bsl_m']['predictions']"
   ]
  },
  {
   "cell_type": "code",
   "execution_count": 53,
   "metadata": {
    "colab": {
     "base_uri": "https://localhost:8080/",
     "height": 446
    },
    "colab_type": "code",
    "id": "w38P5RvOq_mJ",
    "outputId": "893de85a-ec03-4856-bf2e-874d9c8186e1"
   },
   "outputs": [
    {
     "name": "stderr",
     "output_type": "stream",
     "text": [
      "/usr/local/lib/python3.6/dist-packages/xgboost/core.py:587: FutureWarning: Series.base is deprecated and will be removed in a future version\n",
      "  if getattr(data, 'base', None) is not None and \\\n",
      "/usr/local/lib/python3.6/dist-packages/xgboost/core.py:588: FutureWarning: Series.base is deprecated and will be removed in a future version\n",
      "  data.base is not None and isinstance(data, np.ndarray) \\\n"
     ]
    },
    {
     "name": "stdout",
     "output_type": "stream",
     "text": [
      "[04:15:42] WARNING: /workspace/src/objective/regression_obj.cu:152: reg:linear is now deprecated in favor of reg:squarederror.\n",
      "\n",
      "\n",
      " Train --- rmse :0.8462124756538578  mape :25.264808220626723 \n",
      " Test --- rmse  :1.0767793575625662 mape:34.44745951378593 \n"
     ]
    },
    {
     "data": {
      "image/png": "[encoded data removed]",
      "text/plain": [
       "<Figure size 432x288 with 1 Axes>"
      ]
     },
     "metadata": {
      "tags": []
     },
     "output_type": "display_data"
    }
   ],
   "source": [
    "x_train = f_train.drop(['user', 'movie', 'rating'], axis=1)\n",
    "y_train = f_train['rating']\n",
    "x_test = f_test.drop(['user','movie','rating'], axis=1)\n",
    "y_test = f_test['rating']\n",
    "\n",
    "\n",
    "xgb_knn_bsl = xgb.XGBRegressor(n_jobs=10, random_state=15)\n",
    "train_results, test_results = run_xgboost(xgb_knn_bsl, x_train, y_train, x_test, y_test)\n",
    "\n",
    "\n",
    "models_eval_train['xgb_knn_bsl'] = train_results\n",
    "models_eval_test['xgb_knn_bsl'] = test_results\n",
    "\n",
    "\n",
    "xgb.plot_importance(xgb_knn_bsl)\n",
    "plt.show()"
   ]
  },
  {
   "cell_type": "markdown",
   "metadata": {
    "colab_type": "text",
    "id": "tVBEz-Tcs6ys"
   },
   "source": [
    "### Matrix Factorization techniques\n",
    "#### SVD Matrix Factorization User Movie iteraction"
   ]
  },
  {
   "cell_type": "code",
   "execution_count": null,
   "metadata": {
    "colab": {},
    "colab_type": "code",
    "id": "fSHLVnJTrnZe"
   },
   "outputs": [],
   "source": [
    "from surprise import SVD"
   ]
  },
  {
   "cell_type": "code",
   "execution_count": 50,
   "metadata": {
    "colab": {
     "base_uri": "https://localhost:8080/",
     "height": 420
    },
    "colab_type": "code",
    "id": "wBfWolaItU13",
    "outputId": "5c604143-f2fd-4571-e819-dfea0a97d71f"
   },
   "outputs": [
    {
     "name": "stdout",
     "output_type": "stream",
     "text": [
      "Processing epoch 0\n",
      "Processing epoch 1\n",
      "Processing epoch 2\n",
      "Processing epoch 3\n",
      "Processing epoch 4\n",
      "Processing epoch 5\n",
      "Processing epoch 6\n",
      "Processing epoch 7\n",
      "Processing epoch 8\n",
      "Processing epoch 9\n",
      "Processing epoch 10\n",
      "Processing epoch 11\n",
      "Processing epoch 12\n",
      "Processing epoch 13\n",
      "Processing epoch 14\n",
      "Processing epoch 15\n",
      "Processing epoch 16\n",
      "Processing epoch 17\n",
      "Processing epoch 18\n",
      "Processing epoch 19\n",
      "\n",
      "\n",
      " Train --- rmse :0.6574721240954099  mape :19.704901088660474 \n",
      " Test --- rmse  :1.0726046873826458 mape:35.01953535988152 \n"
     ]
    }
   ],
   "source": [
    "svd = SVD(n_factors=100, biased=True, random_state=15, verbose=True)\n",
    "svd_train_results, svd_test_results = run_surprise(svd, trainset, testset, verbose=True)\n",
    "\n",
    "models_eval_train['svd'] = svd_train_results \n",
    "models_eval_test['svd'] = svd_test_results"
   ]
  },
  {
   "cell_type": "markdown",
   "metadata": {
    "colab_type": "text",
    "id": "UJEgkC_Zti1_"
   },
   "source": [
    "#### SVD Matrix Factorization with implicit feedback from user"
   ]
  },
  {
   "cell_type": "code",
   "execution_count": null,
   "metadata": {
    "colab": {},
    "colab_type": "code",
    "id": "CkvZCmi-tdYZ"
   },
   "outputs": [],
   "source": [
    "from surprise import SVDpp"
   ]
  },
  {
   "cell_type": "code",
   "execution_count": 52,
   "metadata": {
    "colab": {
     "base_uri": "https://localhost:8080/",
     "height": 420
    },
    "colab_type": "code",
    "id": "AkdK7YgWtoiA",
    "outputId": "ed16bc05-4ea9-4d48-e71e-40ea4aa5a4b8"
   },
   "outputs": [
    {
     "name": "stdout",
     "output_type": "stream",
     "text": [
      " processing epoch 0\n",
      " processing epoch 1\n",
      " processing epoch 2\n",
      " processing epoch 3\n",
      " processing epoch 4\n",
      " processing epoch 5\n",
      " processing epoch 6\n",
      " processing epoch 7\n",
      " processing epoch 8\n",
      " processing epoch 9\n",
      " processing epoch 10\n",
      " processing epoch 11\n",
      " processing epoch 12\n",
      " processing epoch 13\n",
      " processing epoch 14\n",
      " processing epoch 15\n",
      " processing epoch 16\n",
      " processing epoch 17\n",
      " processing epoch 18\n",
      " processing epoch 19\n",
      "\n",
      "\n",
      " Train --- rmse :0.6032438403305899  mape :17.49285063490268 \n",
      " Test --- rmse  :1.0728491944183447 mape:35.03817913919887 \n"
     ]
    }
   ],
   "source": [
    "svdpp = SVDpp(n_factors=50, random_state=15, verbose=True)\n",
    "svdpp_train_results, svdpp_test_results = run_surprise(svdpp, trainset, testset, verbose=True)\n",
    "\n",
    "models_eval_train['svdpp'] = svdpp_train_results \n",
    "models_eval_test['svdpp'] = svdpp_test_results"
   ]
  },
  {
   "cell_type": "markdown",
   "metadata": {
    "colab_type": "text",
    "id": "3lRvPJNiuH6K"
   },
   "source": [
    "### XgBoost with 13 features + Surprise Baseline + Surprise KNNbaseline + MF Techniques"
   ]
  },
  {
   "cell_type": "code",
   "execution_count": 55,
   "metadata": {
    "colab": {
     "base_uri": "https://localhost:8080/",
     "height": 446
    },
    "colab_type": "code",
    "id": "KWxqqPFetzAZ",
    "outputId": "52ded18f-5158-4344-8bf7-04df8b93763e"
   },
   "outputs": [
    {
     "name": "stderr",
     "output_type": "stream",
     "text": [
      "/usr/local/lib/python3.6/dist-packages/xgboost/core.py:587: FutureWarning: Series.base is deprecated and will be removed in a future version\n",
      "  if getattr(data, 'base', None) is not None and \\\n",
      "/usr/local/lib/python3.6/dist-packages/xgboost/core.py:588: FutureWarning: Series.base is deprecated and will be removed in a future version\n",
      "  data.base is not None and isinstance(data, np.ndarray) \\\n"
     ]
    },
    {
     "name": "stdout",
     "output_type": "stream",
     "text": [
      "[04:17:25] WARNING: /workspace/src/objective/regression_obj.cu:152: reg:linear is now deprecated in favor of reg:squarederror.\n",
      "\n",
      "\n",
      " Train --- rmse :0.8462366181909141  mape :25.261350045158785 \n",
      " Test --- rmse  :1.0769599573828592 mape:34.431788329400995 \n"
     ]
    },
    {
     "data": {
      "image/png": "[encoded data removed]",
      "text/plain": [
       "<Figure size 432x288 with 1 Axes>"
      ]
     },
     "metadata": {
      "tags": []
     },
     "output_type": "display_data"
    }
   ],
   "source": [
    "f_train['svd'] = models_eval_train['svd']['predictions']\n",
    "f_train['svdpp'] = models_eval_train['svdpp']['predictions']\n",
    "f_test['svd'] = models_eval_test['svd']['predictions']\n",
    "f_test['svdpp'] = models_eval_test['svdpp']['predictions']\n",
    "\n",
    "x_train = f_train.drop(['user', 'movie', 'rating',], axis=1)\n",
    "y_train = f_train['rating']\n",
    "x_test = f_test.drop(['user', 'movie', 'rating'], axis=1)\n",
    "y_test = f_test['rating']\n",
    "\n",
    "\n",
    "\n",
    "xgb_final = xgb.XGBRegressor(n_jobs=10, random_state=15)\n",
    "train_results, test_results = run_xgboost(xgb_final, x_train, y_train, x_test, y_test)\n",
    "\n",
    "models_eval_train['xgb_final'] = train_results\n",
    "models_eval_test['xgb_final'] = test_results\n",
    "\n",
    "\n",
    "xgb.plot_importance(xgb_final)\n",
    "plt.show()"
   ]
  },
  {
   "cell_type": "markdown",
   "metadata": {
    "colab_type": "text",
    "id": "XmKYxZLovzBh"
   },
   "source": [
    "### XgBoost with Surprise Baseline + Surprise KNNbaseline + MF Techniques"
   ]
  },
  {
   "cell_type": "code",
   "execution_count": 56,
   "metadata": {
    "colab": {
     "base_uri": "https://localhost:8080/",
     "height": 446
    },
    "colab_type": "code",
    "id": "d_fISGa5vTtS",
    "outputId": "072c7816-fad0-412c-ccd1-ae6565dd5f8b"
   },
   "outputs": [
    {
     "name": "stderr",
     "output_type": "stream",
     "text": [
      "/usr/local/lib/python3.6/dist-packages/xgboost/core.py:587: FutureWarning: Series.base is deprecated and will be removed in a future version\n",
      "  if getattr(data, 'base', None) is not None and \\\n",
      "/usr/local/lib/python3.6/dist-packages/xgboost/core.py:588: FutureWarning: Series.base is deprecated and will be removed in a future version\n",
      "  data.base is not None and isinstance(data, np.ndarray) \\\n"
     ]
    },
    {
     "name": "stdout",
     "output_type": "stream",
     "text": [
      "[04:20:23] WARNING: /workspace/src/objective/regression_obj.cu:152: reg:linear is now deprecated in favor of reg:squarederror.\n",
      "\n",
      "\n",
      " Train --- rmse :1.0733280701654648  mape :35.24921535654799 \n",
      " Test --- rmse  :1.0753047860953797 mape:35.07058962951319 \n"
     ]
    },
    {
     "data": {
      "image/png": "[encoded data removed]",
      "text/plain": [
       "<Figure size 432x288 with 1 Axes>"
      ]
     },
     "metadata": {
      "tags": []
     },
     "output_type": "display_data"
    }
   ],
   "source": [
    "x_train = f_train[['knn_bsl_u', 'knn_bsl_m', 'svd', 'svdpp']]\n",
    "y_train = f_train['rating']\n",
    "x_test = f_test[['knn_bsl_u', 'knn_bsl_m', 'svd', 'svdpp']]\n",
    "y_test = f_test['rating']\n",
    "\n",
    "\n",
    "xgb_all_models = xgb.XGBRegressor(n_jobs=10, random_state=15)\n",
    "train_results, test_results = run_xgboost(xgb_all_models, x_train, y_train, x_test, y_test)\n",
    "\n",
    "# store the results in models_evaluations dictionaries\n",
    "models_eval_train['xgb_all_models'] = train_results\n",
    "models_eval_test['xgb_all_models'] = test_results\n",
    "\n",
    "xgb.plot_importance(xgb_all_models)\n",
    "plt.show()"
   ]
  },
  {
   "cell_type": "code",
   "execution_count": 58,
   "metadata": {
    "colab": {
     "base_uri": "https://localhost:8080/",
     "height": 218
    },
    "colab_type": "code",
    "id": "fPEn-DNXwLq2",
    "outputId": "aeb213e5-47b6-4322-ef67-7180785a6ec5"
   },
   "outputs": [
    {
     "data": {
      "text/plain": [
       "svd               1.0726046873826458\n",
       "knn_bsl_u         1.0726493739667242\n",
       "knn_bsl_m          1.072758832653683\n",
       "svdpp             1.0728491944183447\n",
       "bsl_algo          1.0730330260516174\n",
       "xgb_all_models    1.0753047860953797\n",
       "xgb1               1.076373581778953\n",
       "xgb_bsl           1.0765603714651855\n",
       "xgb_knn_um        1.0767793575625662\n",
       "xgb_knn_bsl       1.0767793575625662\n",
       "xgb_final         1.0769599573828592\n",
       "Name: rmse, dtype: object"
      ]
     },
     "execution_count": 58,
     "metadata": {
      "tags": []
     },
     "output_type": "execute_result"
    }
   ],
   "source": [
    "pd.DataFrame(models_eval_test).to_csv('sample_r.csv')\n",
    "models = pd.read_csv('sample_r.csv', index_col=0)\n",
    "models.loc['rmse'].sort_values()"
   ]
  },
  {
   "cell_type": "code",
   "execution_count": null,
   "metadata": {
    "colab": {},
    "colab_type": "code",
    "id": "2sREfNbrwtBf"
   },
   "outputs": [],
   "source": []
  }
 ],
 "metadata": {
  "colab": {
   "collapsed_sections": [
    "qv9V1k-Fd7Yp",
    "nDNs9RXxd7Yu",
    "3ii1_l8Id7Y0",
    "jaDurYc-d7Zp",
    "AZi0-L2zd7al",
    "90uVp_p2d7as",
    "gGwXGvRwd7a7",
    "vpjFh318d7bE",
    "rMfzZ2S_d7bI",
    "8G1QoEG8d7bM"
   ],
   "name": "Netflix_Recommender.ipynb",
   "provenance": [],
   "version": "0.3.2"
  },
  "kernelspec": {
   "display_name": "Python 3",
   "language": "python",
   "name": "python3"
  },
  "language_info": {
   "codemirror_mode": {
    "name": "ipython",
    "version": 3
   },
   "file_extension": ".py",
   "mimetype": "text/x-python",
   "name": "python",
   "nbconvert_exporter": "python",
   "pygments_lexer": "ipython3",
   "version": "3.6.8"
  }
 },
 "nbformat": 4,
 "nbformat_minor": 4
}
